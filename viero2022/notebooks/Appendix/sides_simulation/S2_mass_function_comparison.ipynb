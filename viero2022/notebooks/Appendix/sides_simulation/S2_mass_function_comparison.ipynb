{
 "cells": [
  {
   "cell_type": "markdown",
   "id": "4ba27da9",
   "metadata": {},
   "source": [
    "# SIDES Simulation\n",
    "\n",
    "This directory contains models made with simulations generated using [SIDES](https://gitlab.lam.fr/mbethermin/sides-public-release/-/tree/main/PYSIDES).  \n",
    "\n",
    "The catalog generated in the Notebook (S0_Generate_Simulated_Herschel_Maps_and_Catlog)[./S0_Generate_Simulated_Herschel_Maps_and_Catlog] is used here to compare to the COSMOS2020 sample in Viero2022."
   ]
  },
  {
   "cell_type": "code",
   "execution_count": 1,
   "id": "27c57ce2",
   "metadata": {},
   "outputs": [
    {
     "data": {
      "text/html": [
       "<style>.container { width:90% !important; }</style>"
      ],
      "text/plain": [
       "<IPython.core.display.HTML object>"
      ]
     },
     "metadata": {},
     "output_type": "display_data"
    }
   ],
   "source": [
    "# Standard modules\n",
    "import pdb\n",
    "import os\n",
    "import sys\n",
    "import pandas as pd\n",
    "from astropy.io import fits\n",
    "import matplotlib.pyplot as plt\n",
    "from matplotlib import gridspec\n",
    "\n",
    "from lmfit import Parameters, minimize, fit_report\n",
    "\n",
    "import warnings\n",
    "warnings.filterwarnings(\"ignore\")\n",
    "\n",
    "sys.path.append(\"../../../..\")\n",
    "\n",
    "from simstackwrapper import SimstackWrapper\n",
    "from simstackresults import SimstackResults\n",
    "from simstackplots import SimstackPlots\n",
    "from simstacktoolbox import SimstackToolbox\n",
    "\n",
    "#from scipy.signal import find_peaks\n",
    "from IPython.core.display import display, HTML\n",
    "display(HTML(\"<style>.container { width:90% !important; }</style>\"))"
   ]
  },
  {
   "cell_type": "markdown",
   "id": "0a43ddee",
   "metadata": {},
   "source": [
    "### COSMOS2020 Catalog"
   ]
  },
  {
   "cell_type": "code",
   "execution_count": 2,
   "id": "7f499071",
   "metadata": {},
   "outputs": [],
   "source": [
    "# Import catalog with SimstackWrapper\n",
    "combined_pickle_filename = \"cosmos2020_farmer_nuvrj_0p01_0p5_1_1p5_2_2p5_3_3p5_4_5_6_8_10p0_X_4_foregnd_atonce_bootstrap_1-150\"\n",
    "combined_pickle_path = os.environ['PICKLESPATH']+'/'+os.path.join(\"simstack\",\"stacked_flux_densities\", \"spire\" , combined_pickle_filename)\n",
    "underscore_suffix = \"\"\n",
    "path_ini_file = os.path.join(combined_pickle_path, \"cosmos2020_farmer.ini\")\n",
    "path_pickle_file = os.path.join(combined_pickle_path, combined_pickle_filename+\".pkl\")\n",
    "if os.path.isfile(path_ini_file):\n",
    "    simstack_catalog_object = SimstackWrapper(path_ini_file, read_maps=False, read_catalog=True, keep_catalog=True, stack_automatically=False, save_automatically=False)\n",
    "else:\n",
    "    print(path_ini_file+' not found')"
   ]
  },
  {
   "cell_type": "code",
   "execution_count": 3,
   "id": "5f31bef0",
   "metadata": {},
   "outputs": [],
   "source": [
    "# Load Table into a pandas DataFrame\n",
    "cosmos2020 = simstack_catalog_object.catalog_dict['tables']['full_table']"
   ]
  },
  {
   "cell_type": "markdown",
   "id": "70b1ee66",
   "metadata": {},
   "source": [
    "### SIDES Catalog"
   ]
  },
  {
   "cell_type": "code",
   "execution_count": 4,
   "id": "8890bfb9",
   "metadata": {},
   "outputs": [],
   "source": [
    "# Import catalog with SimstackWrapper\n",
    "combined_pickle_filename = \"sides_allz_nuvrj_0p01_0p5_1_1p5_2_2p5_3_4_5_6p0_X_4_foregnd_atonce_bootstrap_1-70\"\n",
    "combined_pickle_path = os.environ['PICKLESPATH']+'/'+os.path.join(\"simstack\",\"stacked_flux_densities\", \"spire\" , combined_pickle_filename)\n",
    "underscore_suffix = \"\"\n",
    "path_ini_file = os.path.join(combined_pickle_path, \"sides_simulation.ini\")\n",
    "path_pickle_file = os.path.join(combined_pickle_path, combined_pickle_filename+\".pkl\")\n",
    "if os.path.isfile(path_ini_file):\n",
    "    sides_catalog_object = SimstackWrapper(path_ini_file, read_maps=False, read_catalog=True, keep_catalog=True, stack_automatically=False, save_automatically=False)\n",
    "else:\n",
    "    print(path_ini_file+' not found')"
   ]
  },
  {
   "cell_type": "markdown",
   "id": "ae3d097f",
   "metadata": {},
   "source": [
    "### Compare Counts"
   ]
  },
  {
   "cell_type": "code",
   "execution_count": 23,
   "id": "68146d2e",
   "metadata": {},
   "outputs": [],
   "source": [
    "def plot_number_counts_comparison(self, catalog, sides, id_label = None, \n",
    "                                  area_sides = 2, area_c2022 = 1.65):\n",
    "\n",
    "    bin_keys = list(self.config_dict['parameter_names'].keys())\n",
    "    wv_keys = list(self.results_dict['band_results_dict'].keys())\n",
    "    \n",
    "    zlen = len(self.config_dict['parameter_names'][bin_keys[0]])\n",
    "    mlen = len(self.config_dict['parameter_names'][bin_keys[1]])\n",
    "    plen = len(self.config_dict['parameter_names'][bin_keys[2]])\n",
    "    wlen = len(wv_keys)\n",
    "    \n",
    "    wv_mod = np.linspace(8,1000,1000)\n",
    "    \n",
    "    if id_label is not None:\n",
    "        zlab = id_label.split('__')[0]\n",
    "        mlab = id_label.split('__')[1]\n",
    "        plab = id_label.split('__')[2]\n",
    "        m = [float(i) for i in mlab.split('_')[2:]]\n",
    "        z = [float(i) for i in zlab.split('_')[1:]]\n",
    "        print(z, m)\n",
    "        ind_bin = (catalog['lp_zBEST'] > z[0]) & \\\n",
    "            (catalog['lp_zBEST'] < z[1]) & \\\n",
    "            (catalog['lp_mass_med'] >= m[0]) & \\\n",
    "            (catalog['lp_mass_med'] < m[1]) & \\\n",
    "            (catalog['sfg'] == 1)\n",
    "        idz=catalog.ID[ind_bin].values\n",
    "        \n",
    "        #subsides = sides[(sides['Mstar']>10**m[0]) & (sides['Mstar']<10**m[1]) & (sides['qflag']==0)]\n",
    "        subsides_bin = sides[(sides['redshift']>z[0]) & (sides['redshift']<z[1]) & (sides['Mstar']>10**m[0]) & (sides['Mstar']<10**m[1]) & (sides['qflag']==0)]\n",
    "\n",
    "        print(id_label,\" SIDES={0:0d}, Cosmos2020={1:0d}\".format(len(subsides_bin),len(idz)))\n",
    "    else:\n",
    "        \n",
    "        number_counts = np.zeros([2,zlen,mlen+1])\n",
    "        width_ratios = [i for i in np.ones(zlen)]\n",
    "        gs = gridspec.GridSpec(2, zlen, width_ratios=width_ratios,\n",
    "                               wspace=0.0, hspace=0.0, top=0.95, bottom=0.05, left=0.17, right=0.845)\n",
    "        fig = plt.figure(figsize=(35, 5))\n",
    "        for iz, zlab in enumerate(self.config_dict['parameter_names'][bin_keys[0]]):\n",
    "            for ip, plab in enumerate(self.config_dict['parameter_names'][bin_keys[2]]):\n",
    "                if ip:\n",
    "                    ax = plt.subplot(gs[0, iz])                \n",
    "                    #ax.set_xscale('log')                \n",
    "                    ax.set_yscale('log')      \n",
    "                    ax.set_ylim([8e0,2e4])\n",
    "                    ax.set_title(zlab.replace('redshift_','z=').replace('_','-'))\n",
    "                \n",
    "                    mx=np.zeros(mlen+1)\n",
    "                    for im, mlab in enumerate(self.config_dict['parameter_names'][bin_keys[1]]):\n",
    "                        id_label = \"__\".join([zlab, mlab, plab])\n",
    "                        \n",
    "                        m = [float(i) for i in mlab.split('_')[2:]]\n",
    "                        z = [float(i) for i in zlab.split('_')[1:]]\n",
    "                        mx[im] = m[0]\n",
    "\n",
    "                        ind_bin = (catalog['lp_zBEST'] > z[0]) & \\\n",
    "                        (catalog['lp_zBEST'] < z[1]) & \\\n",
    "                        (catalog['lp_mass_med'] >= m[0]) & \\\n",
    "                        (catalog['lp_mass_med'] < m[1]) & \\\n",
    "                        (catalog['sfg'] == ip)\n",
    "                        idz=catalog.ID[ind_bin].values\n",
    "                        \n",
    "                        subsides_bin = sides[(sides['redshift']>=z[0]) & (sides['redshift']<z[1]) & (sides['Mstar']>=10**m[0]) & (sides['Mstar']<10**m[1]) & (sides['qflag']==0)]\n",
    "                        \n",
    "                        number_counts[:,iz,im+1] = len(subsides_bin),len(idz)\n",
    "                    \n",
    "                    number_counts[:,iz,0] = number_counts[:,iz,1] \n",
    "                    mx[-1] = m[1]\n",
    "                    \n",
    "                    v_sides = self.comoving_volume_given_area(area_sides, z[0], z[1])\n",
    "                    v_c2020 = self.comoving_volume_given_area(area_c2022, z[0], z[1])\n",
    "                    ax.step(mx,number_counts[0,iz,:]*(v_c2020/v_sides),c='r' ,label='sides')\n",
    "                    ax.step(mx,number_counts[1,iz,:],c='b' ,label='cosmos2020')\n",
    "                    \n",
    "                    ax.set_xlabel('stellar mass')\n",
    "\n",
    "                    if iz:\n",
    "                        ax.set_yticklabels([])\n",
    "                    else:\n",
    "                        ax.set_ylabel('counts/bin')\n",
    "                        \n",
    "                    if iz == zlen-1:\n",
    "                        ax.legend()\n",
    "                        \n",
    "                    ax = plt.subplot(gs[1, iz])                   \n",
    "                    ax.set_ylim([.3,25])\n",
    "                    ax.set_yscale('log')      \n",
    "                    counts_ratio = (number_counts[1,iz,:])/(number_counts[0,iz,:]*(v_c2020/v_sides))\n",
    "                    plt.step(mx, counts_ratio)\n",
    "                    if iz:\n",
    "                        ax.set_yticklabels([])\n",
    "                    else:\n",
    "                        ax.set_ylabel('N_cosmos/N_sides')\n",
    "                        "
   ]
  },
  {
   "cell_type": "code",
   "execution_count": 24,
   "id": "3c74fc6e",
   "metadata": {},
   "outputs": [
    {
     "data": {
      "image/png": "[encoded data removed]",
      "text/plain": [
       "<Figure size 2520x360 with 24 Axes>"
      ]
     },
     "metadata": {
      "needs_background": "light"
     },
     "output_type": "display_data"
    }
   ],
   "source": [
    "plot_number_counts_comparison(simstack_catalog_object, cosmos2020, sides_catalog_object.catalog_dict['tables']['full_table'])"
   ]
  },
  {
   "cell_type": "code",
   "execution_count": null,
   "id": "cb8c854d",
   "metadata": {},
   "outputs": [],
   "source": []
  },
  {
   "cell_type": "code",
   "execution_count": null,
   "id": "f8b949d6",
   "metadata": {},
   "outputs": [],
   "source": []
  }
 ],
 "metadata": {
  "kernelspec": {
   "display_name": "Python 3",
   "language": "python",
   "name": "python3"
  },
  "language_info": {
   "codemirror_mode": {
    "name": "ipython",
    "version": 3
   },
   "file_extension": ".py",
   "mimetype": "text/x-python",
   "name": "python",
   "nbconvert_exporter": "python",
   "pygments_lexer": "ipython3",
   "version": "3.8.10"
  }
 },
 "nbformat": 4,
 "nbformat_minor": 5
}
