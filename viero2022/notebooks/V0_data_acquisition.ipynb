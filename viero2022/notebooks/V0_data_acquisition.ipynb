{
 "cells": [
  {
   "cell_type": "markdown",
   "id": "4014049c",
   "metadata": {},
   "source": [
    "# Step 0.  This is where you assemble the data for stacking\n",
    "\n",
    "All data used in the paper are available to the public.  They include\n",
    "- catalogs from COSMOS\n",
    "- maps from HELP, and S2CLS"
   ]
  },
  {
   "cell_type": "markdown",
   "id": "166cf1d4",
   "metadata": {},
   "source": [
    "# Catalog\n",
    "\n",
    "### COSMOS\n",
    "\n",
    "The cosmos 2020 catalog was released Dec 20, 2021.  It is available here\n",
    "https://cosmos.astro.caltech.edu/news/78\n",
    "\n",
    "After download, see this [Notebook](Appendix/A0_export_cosmos2020_to_csv.ipynb) for instructions on reducing it to a more usable size. "
   ]
  },
  {
   "cell_type": "markdown",
   "id": "9bf85450",
   "metadata": {},
   "source": [
    "# Maps\n",
    "\n",
    "### HELP\n",
    "The Herschel Extragalactic Legacy Project (HELP) is a valuable resource for Herschel related data and software. The link to the data is https://herschel.sussex.ac.uk/data_access/\n",
    "\n",
    "### S2CLS\n",
    "The SCUBA-2 Cosmology Legacy Survey (S2CLS) consists of 850um maps and a catalogue of seven extragalactic survey fields.  Data access is available at https://zenodo.org/record/57792#.Yj9x1YXMKUk"
   ]
  },
  {
   "cell_type": "markdown",
   "id": "202665f7",
   "metadata": {},
   "source": [
    "# Shortcut"
   ]
  },
  {
   "cell_type": "markdown",
   "id": "618c340f",
   "metadata": {},
   "source": [
    "### Viero et al. 2022\n",
    "Compiled at this location are map cutouts of the cosmos area covered by the catalog, as well as a subset of the full catalog, in CSV format, to reproduce the paper results.   \n",
    "https://sites.astro.caltech.edu/viero/viero2022/data/"
   ]
  },
  {
   "cell_type": "code",
   "execution_count": null,
   "id": "4734595f",
   "metadata": {},
   "outputs": [],
   "source": []
  }
 ],
 "metadata": {
  "kernelspec": {
   "display_name": "Python 3",
   "language": "python",
   "name": "python3"
  },
  "language_info": {
   "codemirror_mode": {
    "name": "ipython",
    "version": 3
   },
   "file_extension": ".py",
   "mimetype": "text/x-python",
   "name": "python",
   "nbconvert_exporter": "python",
   "pygments_lexer": "ipython3",
   "version": "3.8.10"
  }
 },
 "nbformat": 4,
 "nbformat_minor": 5
}
