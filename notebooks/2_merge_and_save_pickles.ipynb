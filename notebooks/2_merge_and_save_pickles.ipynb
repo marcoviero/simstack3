{
 "cells": [
  {
   "cell_type": "code",
   "execution_count": 1,
   "id": "23e01b61",
   "metadata": {
    "scrolled": true
   },
   "outputs": [
    {
     "data": {
      "text/html": [
       "<style>.container { width:98% !important; }</style>"
      ],
      "text/plain": [
       "<IPython.core.display.HTML object>"
      ]
     },
     "metadata": {},
     "output_type": "display_data"
    }
   ],
   "source": [
    "# Standard modules\n",
    "import pdb\n",
    "import sys\n",
    "import os\n",
    "import pickle\n",
    "import matplotlib.pyplot as plt\n",
    "import warnings\n",
    "warnings.filterwarnings(\"ignore\")\n",
    "\n",
    "sys.path.append(\"..\")\n",
    "\n",
    "from simstackwrapper import SimstackWrapper\n",
    "from simstacktoolbox import SimstackToolbox\n",
    "\n",
    "from IPython.core.display import display, HTML\n",
    "display(HTML(\"<style>.container { width:98% !important; }</style>\"))"
   ]
  },
  {
   "cell_type": "markdown",
   "id": "fdb1fc6f",
   "metadata": {},
   "source": [
    "# This step is only necessary if you split the stacking into multiple chunks.  \n",
    "\n",
    "If you split the stack into chunks, e.g.; \n",
    "\n",
    "; First Third \n",
    "* classification = {\"split_type\":\"nuvrj\", \"redshift\":{\"id\":\"lp_zBEST\", \"bins\":\"[0.01, 0.5, 1.0, 1.5, 2.0]\"}, \"stellar_mass\":{\"id\":\"lp_mass_med\", \"bins\":\"[9.5, 10.0, 10.5, 11.0, 12.0]\"}, \"split_params\":{\"id\":\"sfg\", \"bins\":{\"UV-R\":\"restNUV-R\", \"R-J\":\"restR-J\"}}  }\n",
    "\n",
    "; Second Third\n",
    "\n",
    "* classification = {\"split_type\":\"nuvrj\", \"redshift\":{\"id\":\"lp_zBEST\", \"bins\":\"[2.0, 2.5, 3.0, 3.5, 4.0]\"}, \"stellar_mass\":{\"id\":\"lp_mass_med\", \"bins\":\"[9.5, 10.0, 10.5, 11.0, 12.0]\"}, \"split_params\":{\"id\":\"sfg\", \"bins\":{\"UV-R\":\"restNUV-R\", \"R-J\":\"restR-J\"}}  }\n",
    "\n",
    "; Third Third\n",
    "\n",
    "* classification = {\"split_type\":\"nuvrj\", \"redshift\":{\"id\":\"lp_zBEST\", \"bins\":\"[4.0, 5.0, 6.0, 8.0, 10.0]\"}, \"stellar_mass\":{\"id\":\"lp_mass_med\", \"bins\":\"[9.5, 10.0, 10.5, 11.0, 12.0]\"}, \"split_params\":{\"id\":\"sfg\", \"bins\":{\"UV-R\":\"restNUV-R\", \"R-J\":\"restR-J\"}}  }\n",
    "\n",
    "Then they need to be merged in order to analyze as one set.  This is a 4 step process\n",
    "1. Make a new directory, pickle_dict, to store the merged pickle.  \n",
    "2. Inside that directory you need to copy the config file (e.g., cosmos2020_farmer.ini) and **edit the redshift bins** to reflect the merged redshift bins.   So in this example it would look like\n",
    "* classification = {\"split_type\":\"nuvrj\", \"redshift\":{\"id\":\"lp_zBEST\", \"bins\":\"[0.01, 0.5, 1.0, 1.5, 2.0, 2.5, 3.0, 3.5, 4.0, 5.0, 6.0, 8.0, 10.0]\"}, \"stellar_mass\":{\"id\":\"lp_mass_med\", \"bins\":\"[9.5, 10.0, 10.5, 11.0, 12.0]\"}, \"split_params\":{\"id\":\"sfg\", \"bins\":{\"UV-R\":\"restNUV-R\", \"R-J\":\"restR-J\"}}  }\n",
    "3. Create a dictionary containing the names of the directories of the stacked fluxes, the merged directory, and the name of the config file.  See below for example.\n",
    "4. Run merge_stack_and_catalog_pickles(pickle_dict)"
   ]
  },
  {
   "cell_type": "markdown",
   "id": "00a22662",
   "metadata": {},
   "source": [
    "## Farmer: z0-10 x 4M X 100boots (Final Nominal)"
   ]
  },
  {
   "cell_type": "code",
   "execution_count": 2,
   "id": "12c0be85",
   "metadata": {},
   "outputs": [],
   "source": [
    "pickle_file_dict = {'stack_dirs': ['cosmos2020_farmer_nuvrj_0p01_0p5_1_1p5_2p0_X_4_foregnd_atonce_bootstrap_1-150', \n",
    "                                   'cosmos2020_farmer_nuvrj_2_2p5_3_3p5_4p0_X_4_foregnd_atonce_bootstrap_1-150',\n",
    "                                   'cosmos2020_farmer_nuvrj_4_5_6_8_10p0_X_4_foregnd_atonce_bootstrap_1-150'], \n",
    "                    'underscore_suffix': '', \n",
    "                    'merged_dir': 'cosmos2020_farmer_nuvrj_0p01_0p5_1_1p5_2_2p5_3_3p5_4_5_6_8_10_X_4_foregnd_atonce_bootstrap_1-150',\n",
    "                    'config_filename': 'cosmos2020_farmer.ini',\n",
    "                    'pickle_path':os.environ['PICKLESPATH']+'/'+os.path.join(\"simstack\",\"stacked_flux_densities\")}"
   ]
  },
  {
   "cell_type": "code",
   "execution_count": 3,
   "id": "49a5dcea",
   "metadata": {},
   "outputs": [],
   "source": [
    "def merge_stack_and_catalog_pickles(pickle_dict, keep_full_catalog=True, save_pickle=True, overwrite_pickle=False):\n",
    "    \n",
    "    pickle_path_combined = os.path.join(pickle_dict['pickle_path'],pickle_dict['merged_dir']+pickle_dict['underscore_suffix'])\n",
    "    path_save_pickle = os.path.join(pickle_path_combined,pickle_dict['merged_dir']+'.pkl')\n",
    "    \n",
    "    if os.path.isfile(path_save_pickle) and not overwrite_pickle:\n",
    "        return SimstackToolbox.import_saved_pickles(path_save_pickle)\n",
    "    \n",
    "    for iobj, path_obj in enumerate(pickle_dict['stack_dirs']):\n",
    "        path_object = os.path.join(pickle_dict['pickle_path'],path_obj+pickle_dict['underscore_suffix'],path_obj+'.pkl')\n",
    "\n",
    "        if os.path.isfile(path_object):\n",
    "            temp_object = SimstackToolbox.import_saved_pickles(path_object)\n",
    "        else:\n",
    "            print(path_object ,' does not exist')\n",
    "            break\n",
    "                \n",
    "        if not iobj:\n",
    "            merge_object = temp_object\n",
    "        else:\n",
    "            merge_object.combine_objects(temp_object)\n",
    "\n",
    "        if keep_full_catalog:\n",
    "            path_ini_file = os.path.join(pickle_path_combined, pickle_dict['config_filename'])\n",
    "            if os.path.isfile(path_ini_file):\n",
    "                catalog_object = SimstackWrapper(path_ini_file, read_maps=False, read_catalog=True, keep_catalog=True, stack_automatically=False, save_automatically=False)\n",
    "                merge_object.catalog_dict['tables']['full_table'] = catalog_object.catalog_dict['tables']['full_table']\n",
    "            else:\n",
    "                print(path_ini_file ,' does not exist')\n",
    "                break\n",
    "        \n",
    "        if save_pickle:            \n",
    "            SimstackToolbox.save_to_pickles(path_save_pickle, merge_object)\n",
    "                \n",
    "    return merge_object"
   ]
  },
  {
   "cell_type": "code",
   "execution_count": null,
   "id": "f0bf2683",
   "metadata": {},
   "outputs": [],
   "source": [
    "# Merge and Save to Pickle\n",
    "save_pickle = True\n",
    "merged_object = merge_stack_and_catalog_pickles(pickle_file_dict, save_pickle=save_pickle, overwrite_pickle=True)"
   ]
  },
  {
   "cell_type": "markdown",
   "id": "f2d5545f",
   "metadata": {},
   "source": [
    "# OPTIONALLY INSPECT MERGED FLUXES"
   ]
  },
  {
   "cell_type": "code",
   "execution_count": null,
   "id": "68e79659",
   "metadata": {},
   "outputs": [],
   "source": [
    "from simstackresults import SimstackResults\n",
    "merged_object = SimstackResults(merged_object)"
   ]
  },
  {
   "cell_type": "code",
   "execution_count": null,
   "id": "66846ca4",
   "metadata": {},
   "outputs": [],
   "source": [
    "merged_object.parse_results(catalog_object=merged_object, estimate_mcmcs=False)"
   ]
  },
  {
   "cell_type": "code",
   "execution_count": null,
   "id": "5584f0f4",
   "metadata": {},
   "outputs": [],
   "source": [
    "from simstackplots import SimstackPlots\n",
    "merged_object = SimstackPlots(merged_object)"
   ]
  },
  {
   "cell_type": "code",
   "execution_count": null,
   "id": "e8e44bfd",
   "metadata": {},
   "outputs": [],
   "source": [
    "merged_object.plot_flux_densities()"
   ]
  },
  {
   "cell_type": "code",
   "execution_count": null,
   "id": "2180c6be",
   "metadata": {},
   "outputs": [],
   "source": [
    "merged_object.plot_seds(merged_object.results_dict['sed_bootstrap_results_dict'])"
   ]
  },
  {
   "cell_type": "code",
   "execution_count": null,
   "id": "6154c436",
   "metadata": {},
   "outputs": [],
   "source": []
  }
 ],
 "metadata": {
  "kernelspec": {
   "display_name": "Python 3",
   "language": "python",
   "name": "python3"
  },
  "language_info": {
   "codemirror_mode": {
    "name": "ipython",
    "version": 3
   },
   "file_extension": ".py",
   "mimetype": "text/x-python",
   "name": "python",
   "nbconvert_exporter": "python",
   "pygments_lexer": "ipython3",
   "version": "3.8.10"
  }
 },
 "nbformat": 4,
 "nbformat_minor": 5
}
