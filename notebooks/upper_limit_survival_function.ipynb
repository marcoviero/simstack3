{
 "cells": [
  {
   "cell_type": "code",
   "execution_count": 45,
   "id": "0e46df80",
   "metadata": {},
   "outputs": [
    {
     "data": {
      "text/html": [
       "<style>.container { width:98% !important; }</style>"
      ],
      "text/plain": [
       "<IPython.core.display.HTML object>"
      ]
     },
     "metadata": {},
     "output_type": "display_data"
    }
   ],
   "source": [
    "# Standard modules\n",
    "import pdb\n",
    "import sys\n",
    "import os\n",
    "import pickle\n",
    "import emcee\n",
    "import scipy\n",
    "from scipy.integrate import quad\n",
    "import numpy as np\n",
    "import pandas as pd\n",
    "from lmfit import Parameters, minimize, fit_report\n",
    "import matplotlib.pyplot as plt\n",
    "import warnings\n",
    "warnings.filterwarnings(\"ignore\")\n",
    "\n",
    "sys.path.append(\"..\")\n",
    "\n",
    "from simstackwrapper import SimstackWrapper\n",
    "from simstackresults import SimstackResults\n",
    "from simstackplots import SimstackPlots\n",
    "\n",
    "from IPython.core.display import display, HTML\n",
    "display(HTML(\"<style>.container { width:98% !important; }</style>\"))"
   ]
  },
  {
   "cell_type": "code",
   "execution_count": 2,
   "id": "66a22e94",
   "metadata": {},
   "outputs": [],
   "source": [
    "# Function to import saved stacking results\n",
    "def import_saved_pickles(pickle_fn):\n",
    "    with open(pickle_fn, \"rb\") as file_path:\n",
    "        encoding = pickle.load(file_path)\n",
    "    return encoding"
   ]
  },
  {
   "cell_type": "code",
   "execution_count": 3,
   "id": "19bc75bb",
   "metadata": {},
   "outputs": [
    {
     "name": "stdout",
     "output_type": "stream",
     "text": [
      "True\n"
     ]
    }
   ],
   "source": [
    "# Define Pickled Stacking Results File for Importing\n",
    "pickle_filename = 'cosmos2020_nuvrj_1p5_2_2p5_3_3p5_background_atonce_farmer_bootstrap_100'\n",
    "pickle_path = os.path.join(\"..\",\"test_data\",\"pickles\",pickle_filename)\n",
    "path_pickle_file = os.path.join(pickle_path, pickle_filename+\".pkl\")\n",
    "print(os.path.isfile(path_pickle_file))"
   ]
  },
  {
   "cell_type": "code",
   "execution_count": 4,
   "id": "7d6d1583",
   "metadata": {},
   "outputs": [],
   "source": [
    "# Import saved stacking results\n",
    "simstack_object = import_saved_pickles(path_pickle_file)"
   ]
  },
  {
   "cell_type": "code",
   "execution_count": 5,
   "id": "62191cf8",
   "metadata": {},
   "outputs": [
    {
     "name": "stdout",
     "output_type": "stream",
     "text": [
      "..\\test_data\\pickles\\cosmos2020_nuvrj_1p5_2_2p5_3_3p5_background_atonce_farmer_bootstrap_100\\cosmos2020_alt_binning.ini True\n"
     ]
    }
   ],
   "source": [
    "# Import Catalog with SimstackWrapper\n",
    "path_ini_file = os.path.join(pickle_path, \"cosmos2020_alt_binning.ini\")\n",
    "print(path_ini_file,os.path.isfile(path_ini_file))\n",
    "simstack_catalog_object = SimstackWrapper(path_ini_file, read_maps=False, read_catalog=True, keep_catalog=True, stack_automatically=False, save_automatically=False)"
   ]
  },
  {
   "cell_type": "code",
   "execution_count": 6,
   "id": "bfdccffb",
   "metadata": {},
   "outputs": [],
   "source": [
    "# Pass saved stacking object into SimstackResults\n",
    "simstack_object = SimstackResults(simstack_object)"
   ]
  },
  {
   "cell_type": "code",
   "execution_count": 7,
   "id": "c26c9aa1",
   "metadata": {},
   "outputs": [],
   "source": [
    "# Pass aved stacking object into SimstackPlots\n",
    "simstack_object = SimstackPlots(simstack_object)"
   ]
  },
  {
   "cell_type": "code",
   "execution_count": 8,
   "id": "58266b4b",
   "metadata": {},
   "outputs": [],
   "source": [
    "# Call parse_results which creates converts the raw results into a results_dict for plotting/interpreting.\n",
    "simstack_object.parse_results(catalog_object=simstack_catalog_object, estimate_mcmcs=False)"
   ]
  },
  {
   "cell_type": "code",
   "execution_count": 9,
   "id": "1daa18f1",
   "metadata": {},
   "outputs": [],
   "source": [
    "# SED measurements and bootstraps stored in sed_results_dict\n",
    "sed_results_dict = simstack_object.results_dict['sed_bootstrap_results_dict']"
   ]
  },
  {
   "cell_type": "code",
   "execution_count": 10,
   "id": "e1874731",
   "metadata": {},
   "outputs": [
    {
     "data": {
      "text/plain": [
       "dict_keys(['wavelengths', 'z_median', 'm_median', 'ngals', 'sed_fluxes_dict', 'std_fluxes_dict', 'sed_bootstrap_fluxes_dict'])"
      ]
     },
     "execution_count": 10,
     "metadata": {},
     "output_type": "execute_result"
    }
   ],
   "source": [
    "sed_results_dict.keys()"
   ]
  },
  {
   "cell_type": "markdown",
   "id": "3ec426d2",
   "metadata": {},
   "source": [
    "## Improve SED estimator to include survival function for upper limits"
   ]
  },
  {
   "cell_type": "raw",
   "id": "a033c8a0",
   "metadata": {},
   "source": [
    "# IDL code from Lorenzo's email.  \n",
    "\n",
    "; Gaussian for integrating\n",
    "\n",
    "function gauss, x\n",
    "  return, exp(-x^2./2.)\n",
    "end\n",
    "\n",
    "\n",
    ";------------------------------------------------------------------------------\n",
    "; Calculate the survival function\n",
    ";------------------------------------------------------------------------------\n",
    "\n",
    "function survival, z\n",
    "\n",
    "  s = z*0.\n",
    "\n",
    "  t = size(z,/type)\n",
    "\n",
    "  if t eq 5 then begin          ; if z double, do more precise integral\n",
    "    lim = 37d\n",
    "    double = 1\n",
    "    nsteps = 300\n",
    "  endif else begin                    ; otherwise lower precision\n",
    "    lim = 13.\n",
    "    double = 0\n",
    "    nsteps = 100\n",
    "  endelse\n",
    "\n",
    "\n",
    "  index = where(z lt -lim)\n",
    "  if index(0) ne -1 then s(index) = 1.\n",
    "\n",
    "  index = where(z gt lim)\n",
    "  if index(0) ne -1 then s(index) = 0.\n",
    "\n",
    "  index = where( abs(z) le lim )\n",
    "  ;if index(0) ne -1 then s(index) = $\n",
    "  ;  qromo('gauss',z(index),/midexp)/sqrt(2*!pi)\n",
    "\n",
    "  if index(0) ne -1 then begin\n",
    "    for i=0, n_elements(index)-1 do begin\n",
    "      bins = loggen(z(index(i)),lim,nsteps,/linear,double=double)\n",
    "      step = bins(1) - bins(0)\n",
    "\n",
    "      s(index(i)) = total( gauss(bins+step/2.) )*step/sqrt(2*!pi)\n",
    "    endfor\n",
    "  endif\n",
    "\n",
    "  return, s\n",
    "  \n",
    "chisq_lim = 0d\n",
    "survival_value = survival(double(model[ind]/theflux[ind]-2d))\n",
    "\n",
    "if ind[0] ne -1 then chisq_lim -= total(alog(survival_value)) ;survival = 1 if model << flux, = 0.5 if model = flux, = 0 if model >> flux"
   ]
  },
  {
   "cell_type": "code",
   "execution_count": 11,
   "id": "c6b7fc71",
   "metadata": {},
   "outputs": [],
   "source": [
    "def log_likelihood(theta, x, y, cov):\n",
    "    y_model = fast_scipy_sed(theta, x)\n",
    "    delta_y = y - y_model[0]\n",
    "    ll = -0.5 * (np.matmul(delta_y, np.matmul(np.linalg.inv(cov), delta_y)) \n",
    "                 + len(y) * np.log(2 * np.pi) \n",
    "                 + np.log(np.linalg.det(cov)))\n",
    "    if not np.isfinite(ll):\n",
    "        return -np.inf\n",
    "    return ll\n",
    "\n",
    "def log_likelihood_full(theta, x_d, y_d, cov_d, x_nd=None, y_nd=None, dy_nd=None):\n",
    "    \n",
    "    _sed_params = Parameters()\n",
    "    _sed_params.add('A', value=theta[0], vary=True)\n",
    "    _sed_params.add('T_observed', value=theta[1], vary=True)\n",
    "    _sed_params.add('beta', value=1.8, vary=False)\n",
    "    _sed_params.add('alpha', value=2.0, vary=False)\n",
    "    \n",
    "    y_model_d = fast_lmfit_sed(_sed_params, x_d)\n",
    "    \n",
    "    y_model_nd = fast_lmfit_sed(_sed_params, x_nd)\n",
    "    \n",
    "    # log likelihood for detections\n",
    "    delta_y = y_d - y_model_d[0]\n",
    "    ll_d = -0.5 * (np.matmul(delta_y, np.matmul(np.linalg.inv(cov_d), delta_y)) \n",
    "                   + len(y_d) * np.log(2 * np.pi) \n",
    "                   + np.log(np.linalg.det(cov_d)))\n",
    "    \n",
    "    # log likelihood for non-detections\n",
    "    ll_nd = 0.\n",
    "    if x_nd is not None:\n",
    "        for j, y_nd_j in enumerate(y_nd):\n",
    "            _integrand_j = lambda yy: np.exp(-0.5*((yy-y_model_nd[0][j])/dy_nd[j])**2)\n",
    "            _integral_j = quad(_integrand_j, 0., y_nd_j)[0]\n",
    "            ll_nd += np.log(_integral_j)\n",
    "    else:\n",
    "        pass\n",
    "    \n",
    "    #print('check ll_d and ll_nd:', ll_d, ll_nd)\n",
    "    \n",
    "    if not np.isfinite(ll_d + ll_nd):\n",
    "        return -np.inf\n",
    "    \n",
    "    return ll_d + ll_nd\n",
    "\n",
    "def log_prior(theta):\n",
    "    A, T = theta[0], theta[1]\n",
    "    Amin = -42\n",
    "    Amax = -26\n",
    "    Tmin = 1\n",
    "    Tmax = 32\n",
    "\n",
    "    if Amin < A < Amax and Tmin < T < Tmax:\n",
    "        return 0.0\n",
    "    else:\n",
    "        return -np.inf\n",
    "\n",
    "def log_prior_informative(theta, theta0):\n",
    "    A, T = theta\n",
    "    A0, T0, sigma_A, sigma_T = theta0\n",
    "    Amin = -42\n",
    "    Amax = -26\n",
    "    Tmin = 1\n",
    "    Tmax = 32\n",
    "    error_infl = 1.0\n",
    "\n",
    "    if Amin < A < Amax and Tmin < T < Tmax and sigma_A is not None and sigma_T is not None:\n",
    "        try:\n",
    "            lp = -0.5 * (np.sum((10**A - 10**A0) ** 2 / (10**sigma_A * error_infl) ** 2) +\n",
    "                         np.sum((T - T0) ** 2 / (sigma_T * error_infl) ** 2)) + \\\n",
    "                 np.log(1.0/(np.sqrt(2*np.pi)*(10**sigma_A))) + np.log(1.0/(np.sqrt(2*np.pi)*sigma_T))\n",
    "        except:\n",
    "            pdb.set_trace()\n",
    "        return lp\n",
    "    return -np.inf\n",
    "\n",
    "def log_probability(theta, x, y, yerr, theta0):\n",
    "    lp = log_prior_informative(theta, theta0)\n",
    "    #pdb.set_trace()\n",
    "    if not np.isfinite(lp):\n",
    "        return -np.inf\n",
    "    return lp + log_likelihood(theta, x, y, yerr)\n",
    "\n",
    "def log_probability_full(theta, x_d, y_d, cov_d, x_nd=None, y_nd=None, dy_nd=None):\n",
    "    lp = log_prior(theta)\n",
    "    if not np.isfinite(lp):\n",
    "        return -np.inf\n",
    "    return lp + log_likelihood_full(theta, x_d, y_d, cov_d, x_nd, y_nd, dy_nd)"
   ]
  },
  {
   "cell_type": "code",
   "execution_count": 51,
   "id": "0dfcef2c",
   "metadata": {},
   "outputs": [],
   "source": [
    "def mcmc_sed_estimator(x, y, yerr, theta, mcmc_iterations=2500, mcmc_discard=25):\n",
    "\n",
    "    pos = np.array([theta[0], theta[1]]) + 1e-1 * np.random.randn(32, 2)\n",
    "    nwalkers, ndim = pos.shape\n",
    "\n",
    "    # Define non-detection as 1-sigma error below 0\n",
    "    yerr_diag = np.diag(yerr)\n",
    "    ind_nd = (y - np.sqrt(yerr_diag)) < 0\n",
    "\n",
    "    # Split detections and non-detections (nd). Remove nd rows/columns from yerr matrix\n",
    "    x  = np.array(x)\n",
    "    wvs = x[ind_nd == False]\n",
    "    fluxes = y[ind_nd == False]\n",
    "    cov_fluxes = yerr\n",
    "    if np.sum(ind_nd):\n",
    "        for i in np.where(ind_nd)[::-1]:\n",
    "            cov_fluxes = np.delete(cov_fluxes,i,axis=0)\n",
    "            cov_fluxes = np.delete(cov_fluxes,i,axis=1)\n",
    "\n",
    "        wvs_nd = x[ind_nd == True]\n",
    "        fluxes_nd = y[ind_nd == True]\n",
    "        dfluxes_nd = yerr_diag[ind_nd == True]\n",
    "    else:\n",
    "        wvs_nd=None\n",
    "        fluxes_nd=None\n",
    "        dfluxes_nd=None\n",
    "            \n",
    "    pdb.set_trace()\n",
    "    sampler = emcee.EnsembleSampler(\n",
    "        nwalkers, ndim, log_probability_full, args=(wvs, fluxes, cov_fluxes, wvs_nd, fluxes_nd, dfluxes_nd)\n",
    "    )\n",
    "    sampler.run_mcmc(pos, mcmc_iterations, progress=True)\n",
    "    flat_samples = sampler.get_chain(discard=mcmc_discard, thin=15, flat=True)\n",
    "\n",
    "    return flat_samples"
   ]
  },
  {
   "cell_type": "code",
   "execution_count": 52,
   "id": "89067563",
   "metadata": {},
   "outputs": [
    {
     "name": "stdout",
     "output_type": "stream",
     "text": [
      "> \u001b[1;32m<ipython-input-51-4020d15e2007>\u001b[0m(24)\u001b[0;36mmcmc_sed_estimator\u001b[1;34m()\u001b[0m\n",
      "\u001b[1;32m     22 \u001b[1;33m    \u001b[0mdfluxes_nd\u001b[0m \u001b[1;33m=\u001b[0m \u001b[0myerr_diag\u001b[0m\u001b[1;33m[\u001b[0m\u001b[0mind_d\u001b[0m \u001b[1;33m==\u001b[0m \u001b[1;32mTrue\u001b[0m\u001b[1;33m]\u001b[0m\u001b[1;33m\u001b[0m\u001b[1;33m\u001b[0m\u001b[0m\n",
      "\u001b[0m\u001b[1;32m     23 \u001b[1;33m    \u001b[0mpdb\u001b[0m\u001b[1;33m.\u001b[0m\u001b[0mset_trace\u001b[0m\u001b[1;33m(\u001b[0m\u001b[1;33m)\u001b[0m\u001b[1;33m\u001b[0m\u001b[1;33m\u001b[0m\u001b[0m\n",
      "\u001b[0m\u001b[1;32m---> 24 \u001b[1;33m    sampler = emcee.EnsembleSampler(\n",
      "\u001b[0m\u001b[1;32m     25 \u001b[1;33m        \u001b[0mnwalkers\u001b[0m\u001b[1;33m,\u001b[0m \u001b[0mndim\u001b[0m\u001b[1;33m,\u001b[0m \u001b[0mlog_probability_full\u001b[0m\u001b[1;33m,\u001b[0m \u001b[0margs\u001b[0m\u001b[1;33m=\u001b[0m\u001b[1;33m(\u001b[0m\u001b[0mwvs\u001b[0m\u001b[1;33m,\u001b[0m \u001b[0mfluxes\u001b[0m\u001b[1;33m,\u001b[0m \u001b[0mcov_fluxes\u001b[0m\u001b[1;33m,\u001b[0m \u001b[0mwvs_nd\u001b[0m\u001b[1;33m,\u001b[0m \u001b[0mfluxes_nd\u001b[0m\u001b[1;33m,\u001b[0m \u001b[0mdfluxes_nd\u001b[0m\u001b[1;33m)\u001b[0m\u001b[1;33m\u001b[0m\u001b[1;33m\u001b[0m\u001b[0m\n",
      "\u001b[0m\u001b[1;32m     26 \u001b[1;33m    )\n",
      "\u001b[0m\n",
      "ipdb> cov_fluxes\n",
      "array([[2.23636547e-11, 4.83908551e-10, 5.75668122e-10, 4.79547479e-10,\n",
      "        2.32138431e-10, 3.14341263e-11],\n",
      "       [4.83908551e-10, 5.19797076e-08, 2.21319420e-08, 2.44274090e-08,\n",
      "        2.05262733e-08, 2.00526820e-10],\n",
      "       [5.75668122e-10, 2.21319420e-08, 1.15577317e-07, 1.23493464e-07,\n",
      "        9.69126604e-08, 4.73310917e-09],\n",
      "       [4.79547479e-10, 2.44274090e-08, 1.23493464e-07, 1.53731010e-07,\n",
      "        1.31623986e-07, 4.77743599e-09],\n",
      "       [2.32138431e-10, 2.05262733e-08, 9.69126604e-08, 1.31623986e-07,\n",
      "        1.29905520e-07, 2.28706882e-09],\n",
      "       [3.14341263e-11, 2.00526820e-10, 4.73310917e-09, 4.77743599e-09,\n",
      "        2.28706882e-09, 5.29745816e-09]])\n",
      "ipdb> yerr\n",
      "array([[2.23636547e-11, 4.83908551e-10, 2.17011190e-09, 5.75668122e-10,\n",
      "        4.79547479e-10, 2.32138431e-10, 3.14341263e-11],\n",
      "       [4.83908551e-10, 5.19797076e-08, 1.61936818e-07, 2.21319420e-08,\n",
      "        2.44274090e-08, 2.05262733e-08, 2.00526820e-10],\n",
      "       [2.17011190e-09, 1.61936818e-07, 2.48447696e-06, 1.22067533e-07,\n",
      "        1.20540536e-07, 9.17863774e-08, 2.24896775e-08],\n",
      "       [5.75668122e-10, 2.21319420e-08, 1.22067533e-07, 1.15577317e-07,\n",
      "        1.23493464e-07, 9.69126604e-08, 4.73310917e-09],\n",
      "       [4.79547479e-10, 2.44274090e-08, 1.20540536e-07, 1.23493464e-07,\n",
      "        1.53731010e-07, 1.31623986e-07, 4.77743599e-09],\n",
      "       [2.32138431e-10, 2.05262733e-08, 9.17863774e-08, 9.69126604e-08,\n",
      "        1.31623986e-07, 1.29905520e-07, 2.28706882e-09],\n",
      "       [3.14341263e-11, 2.00526820e-10, 2.24896775e-08, 4.73310917e-09,\n",
      "        4.77743599e-09, 2.28706882e-09, 5.29745816e-09]])\n",
      "ipdb> dfluxes_nd\n",
      "array([2.48447696e-06])\n",
      "ipdb> ind_nd\n",
      "*** NameError: name 'ind_nd' is not defined\n",
      "ipdb> ind_d\n",
      "array([False, False,  True, False, False, False, False])\n",
      "ipdb> c\n"
     ]
    },
    {
     "name": "stderr",
     "output_type": "stream",
     "text": [
      "100%|████████████████████████████████████████████████████████████████████████████████| 500/500 [00:18<00:00, 27.10it/s]\n"
     ]
    }
   ],
   "source": [
    "# Identify one bin to test as id_label_in\n",
    "id_label_in = 'redshift_3.0_3.5__stellar_mass_10.0_10.5__split_params_1'\n",
    "test_flat_samples, test_theta0 = estimate_mcmc_sed(sed_results_dict, id_label_in, mcmc_iterations=500, mcmc_discard=5)"
   ]
  },
  {
   "cell_type": "code",
   "execution_count": 13,
   "id": "0c27138f",
   "metadata": {},
   "outputs": [
    {
     "ename": "NameError",
     "evalue": "name 'wvs' is not defined",
     "output_type": "error",
     "traceback": [
      "\u001b[1;31m---------------------------------------------------------------------------\u001b[0m",
      "\u001b[1;31mNameError\u001b[0m                                 Traceback (most recent call last)",
      "\u001b[1;32m<ipython-input-13-8437926c8a84>\u001b[0m in \u001b[0;36m<module>\u001b[1;34m\u001b[0m\n\u001b[0;32m      3\u001b[0m \u001b[1;33m\u001b[0m\u001b[0m\n\u001b[0;32m      4\u001b[0m result = scipy.optimize.minimize(target_function, x0=[-31.0, 9.0], \n\u001b[1;32m----> 5\u001b[1;33m                                  args=(wvs, fluxes, cov_fluxes, wvs_nd, fluxes_nd, dfluxes_nd))\n\u001b[0m\u001b[0;32m      6\u001b[0m \u001b[0mprint\u001b[0m\u001b[1;33m(\u001b[0m\u001b[0mresult\u001b[0m\u001b[1;33m)\u001b[0m\u001b[1;33m\u001b[0m\u001b[1;33m\u001b[0m\u001b[0m\n",
      "\u001b[1;31mNameError\u001b[0m: name 'wvs' is not defined"
     ]
    }
   ],
   "source": [
    "def target_function(theta, x_d, y_d, cov_d, x_nd, y_nd, dy_nd):\n",
    "    return -log_likelihood_full(theta, x_d, y_d, cov_d, x_nd, y_nd, dy_nd)\n",
    "\n",
    "result = scipy.optimize.minimize(target_function, x0=[-31.0, 9.0], \n",
    "                                 args=(wvs, fluxes, cov_fluxes, wvs_nd, fluxes_nd, dfluxes_nd))\n",
    "print(result)"
   ]
  },
  {
   "cell_type": "code",
   "execution_count": 14,
   "id": "ca5a9e79",
   "metadata": {},
   "outputs": [],
   "source": [
    "def estimate_mcmc_sed(sed_bootstrap_dict, id_label, z_median=0,\n",
    "                      mcmc_iterations=2500, mcmc_discard=25):\n",
    "\n",
    "    if not z_median:\n",
    "        z_label = id_label.split('_')[1:3]\n",
    "        z_median = np.mean([float(i) for i in z_label])\n",
    "\n",
    "    x = sed_bootstrap_dict['wavelengths']\n",
    "    y = sed_bootstrap_dict['sed_fluxes_dict'][id_label]\n",
    "    yerr = np.cov(sed_bootstrap_dict['sed_bootstrap_fluxes_dict'][id_label], rowvar=False)\n",
    "\n",
    "    sed_params = fast_sed_fitter(x, y, yerr)\n",
    "    graybody = fast_lmfit_sed(sed_params, x)[0]\n",
    "    delta_y = y - graybody\n",
    "    med_delta = np.median(y / delta_y)\n",
    "\n",
    "    Ain = sed_params['A'].value\n",
    "    Aerr = sed_params['A'].stderr\n",
    "    Tin = sed_params['T_observed'].value\n",
    "    Terr = sed_params['T_observed'].stderr\n",
    "\n",
    "    if Tin is None:\n",
    "        Tin = (10 ** (1.2 + 0.1 * z_median)) / (1 + z_median)\n",
    "    if Terr is None:\n",
    "        Terr = Tin * med_delta\n",
    "    if Ain is None:\n",
    "        Ain = -39\n",
    "    if Aerr is None:\n",
    "        Aerr = Ain * med_delta\n",
    "\n",
    "    theta0 = Ain, Tin, Aerr, Terr\n",
    "\n",
    "    if np.isfinite(np.log(np.linalg.det(yerr))):\n",
    "        flat_samples = mcmc_sed_estimator(x, y, yerr, theta0, mcmc_iterations=mcmc_iterations,\n",
    "                                          mcmc_discard=mcmc_discard)\n",
    "    else:\n",
    "        return -np.inf\n",
    "\n",
    "    return flat_samples, theta0"
   ]
  },
  {
   "cell_type": "code",
   "execution_count": 15,
   "id": "f169d44e",
   "metadata": {},
   "outputs": [],
   "source": [
    "def fast_lmfit_sed(m, wavelengths):\n",
    "    c = 299792458.0  # m/s\n",
    "    nu_in = np.array([c * 1.e6 / wv for wv in wavelengths])\n",
    "\n",
    "    v = m.valuesdict()\n",
    "    A = np.asarray(v['A'])\n",
    "    T = np.asarray(v['T_observed'])\n",
    "    betain = np.asarray(v['beta'])\n",
    "    alphain = np.asarray(v['alpha'])\n",
    "    ng = np.size(A)\n",
    "\n",
    "    base = 2.0 * (6.626) ** (-2.0 - betain - alphain) * (1.38) ** (3. + betain + alphain) / (2.99792458) ** 2.0\n",
    "    expo = 34.0 * (2.0 + betain + alphain) - 23.0 * (3.0 + betain + alphain) - 16.0 + 26.0\n",
    "    K = base * 10.0 ** expo\n",
    "    w_num = 10 ** A * K * (T * (3.0 + betain + alphain)) ** (3.0 + betain + alphain)\n",
    "    w_den = (np.exp(3.0 + betain + alphain) - 1.0)\n",
    "    w_div = w_num / w_den\n",
    "    nu_cut = (3.0 + betain + alphain) * 0.208367e11 * T\n",
    "    graybody = np.reshape(10 ** A, (ng, 1)) * nu_in ** np.reshape(betain, (ng, 1)) * black(nu_in, T) / 1000.0\n",
    "    powerlaw = np.reshape(w_div, (ng, 1)) * nu_in ** np.reshape(-1.0 * alphain, (ng, 1))\n",
    "    graybody[np.where(nu_in >= np.reshape(nu_cut, (ng, 1)))] = \\\n",
    "        powerlaw[np.where(nu_in >= np.reshape(nu_cut, (ng, 1)))]\n",
    "\n",
    "    return graybody"
   ]
  },
  {
   "cell_type": "code",
   "execution_count": 16,
   "id": "8d4b19d5",
   "metadata": {},
   "outputs": [],
   "source": [
    "def fast_scipy_sed(theta, x):\n",
    "    A, T = theta\n",
    "\n",
    "    alphain = 2.0\n",
    "    betain = 1.8\n",
    "    c_light = 299792458.0  # m/s\n",
    "\n",
    "    nu_in = np.array([c_light * 1.e6 / wv for wv in x])\n",
    "    ng = np.size(A)\n",
    "\n",
    "    base = 2.0 * (6.626) ** (-2.0 - betain - alphain) * (1.38) ** (3. + betain + alphain) / (2.99792458) ** 2.0\n",
    "    expo = 34.0 * (2.0 + betain + alphain) - 23.0 * (3.0 + betain + alphain) - 16.0 + 26.0\n",
    "    K = base * 10.0 ** expo\n",
    "    w_num = 10 ** A * K * (T * (3.0 + betain + alphain)) ** (3.0 + betain + alphain)\n",
    "    w_den = (np.exp(3.0 + betain + alphain) - 1.0)\n",
    "    w_div = w_num / w_den\n",
    "    nu_cut = (3.0 + betain + alphain) * 0.208367e11 * T\n",
    "    graybody = np.reshape(10 ** A, (ng, 1)) * nu_in ** np.reshape(betain, (ng, 1)) * black(nu_in, T) / 1000.0\n",
    "    powerlaw = np.reshape(w_div, (ng, 1)) * nu_in ** np.reshape(-1.0 * alphain, (ng, 1))\n",
    "    graybody[np.where(nu_in >= np.reshape(nu_cut, (ng, 1)))] = \\\n",
    "        powerlaw[np.where(nu_in >= np.reshape(nu_cut, (ng, 1)))]\n",
    "\n",
    "    return graybody"
   ]
  },
  {
   "cell_type": "code",
   "execution_count": 17,
   "id": "bbeeb478",
   "metadata": {},
   "outputs": [],
   "source": [
    "def black(nu_in, T):\n",
    "    # h = 6.623e-34     ; Joule*s\n",
    "    # k = 1.38e-23      ; Joule/K\n",
    "    # c = 3e8           ; m/s\n",
    "    # (2*h*nu_in^3/c^2)*(1/( exp(h*nu_in/k*T) - 1 )) * 10^29\n",
    "\n",
    "    a0 = 1.4718e-21  # 2*h*10^29/c^2\n",
    "    a1 = 4.7993e-11  # h/k\n",
    "\n",
    "    num = a0 * nu_in ** 3.0\n",
    "    den = np.exp(a1 * np.outer(1.0 / T, nu_in)) - 1.0\n",
    "    ret = num / den\n",
    "\n",
    "    return ret"
   ]
  },
  {
   "cell_type": "code",
   "execution_count": 18,
   "id": "976565c8",
   "metadata": {},
   "outputs": [],
   "source": [
    "def loggen(minval, maxval, npoints, linear=None):\n",
    "    points = np.arange(npoints) / (npoints - 1)\n",
    "    if (linear != None):\n",
    "        return (maxval - minval) * points + minval\n",
    "    else:\n",
    "        return 10.0 ** ((np.log10(maxval / minval)) * points + np.log10(minval))"
   ]
  },
  {
   "cell_type": "code",
   "execution_count": 19,
   "id": "b2f6ef3b",
   "metadata": {},
   "outputs": [],
   "source": [
    "def survival(z):\n",
    "    lim = 37\n",
    "    nsteps = 300\n",
    "    s = np.zeros(np.shape(z))\n",
    "    s[z < -lim] = 1    \n",
    "    s[z > lim] = 0\n",
    "    index = abs(z) <= lim\n",
    "    for i in range(len(index)):\n",
    "        bins = loggen(z[index[i]], lim, nsteps)\n",
    "        step = bins[1] - bins[0]\n",
    "        s[index[i]] = np.sum( gauss(bins+step/2.) )*step/np.sqrt(2*np.pi)"
   ]
  },
  {
   "cell_type": "code",
   "execution_count": 20,
   "id": "f0d8cfde",
   "metadata": {},
   "outputs": [],
   "source": [
    "def fast_sed_fitter(wavelengths, fluxes, covar, betain=1.8, redshiftin=0):\n",
    "    t_in = (10 ** (1.2 + 0.1 * redshiftin)) / (1+redshiftin)\n",
    "    a_in = -34.0\n",
    "    fit_params = Parameters()\n",
    "    fit_params.add('A', value=a_in, vary=True)\n",
    "    fit_params.add('T_observed', value=t_in, max=t_in*1.3, vary=True)\n",
    "    fit_params.add('beta', value=betain, vary=False)\n",
    "    fit_params.add('alpha', value=2.0, vary=False)\n",
    "\n",
    "    try:\n",
    "        sed_params = minimize(find_sed_min, fit_params,\n",
    "                              args=(wavelengths,),\n",
    "                              kws={'fluxes': fluxes, 'covar': covar})\n",
    "        m = sed_params.params\n",
    "    except:\n",
    "        print('fucked!')\n",
    "        m = fit_params\n",
    "\n",
    "    return m\n",
    "\n",
    "def find_sed_min(params, wavelengths, fluxes, covar=None):\n",
    "\n",
    "    graybody = fast_lmfit_sed(params, wavelengths)[0]\n",
    "    delta_y = (fluxes - graybody)\n",
    "\n",
    "    #survival_value = survival(graybody/fluxes-2)\n",
    "    #if ind[0] ne -1 then chisq_lim -= total(alog(survival_value)) ;survival = 1 if model << flux, = 0.5 if model = flux, = 0 if model >> flux\n",
    "    if (covar is None) or (np.sum(covar) == 0):\n",
    "        return delta_y\n",
    "    else:\n",
    "        if np.shape(covar) == np.shape(fluxes):\n",
    "            return delta_y ** 2 / covar\n",
    "        else:\n",
    "            #pdb.set_trace()\n",
    "            #return np.matmul(delta_y, np.matmul(np.linalg.inv(covar), delta_y))\n",
    "            return np.matmul(delta_y**2, np.linalg.inv(covar))"
   ]
  },
  {
   "cell_type": "code",
   "execution_count": 21,
   "id": "a7232f67",
   "metadata": {},
   "outputs": [
    {
     "name": "stdout",
     "output_type": "stream",
     "text": [
      "[-4.74640912  1.08105981  3.08774484]\n",
      "1\n"
     ]
    }
   ],
   "source": [
    "from scipy import optimize\n",
    "\n",
    "def fn(x, a, b, c):\n",
    "    return a*x**2 + b*x + c\n",
    "\n",
    "def residual(pa, x, y):\n",
    "    return y - fn(x, *pa)\n",
    "\n",
    "f = np.poly1d([-5, 1, 3])\n",
    "x = np.linspace(0, 2, 20)\n",
    "y = f(x) + 1.5*np.random.normal(size=len(x))\n",
    "\n",
    "p0 = [1., 1., 1.]\n",
    "popt, pcov = optimize.leastsq(residual, p0, args=(x, y))\n",
    "\n",
    "print(popt)\n",
    "print(pcov)\n",
    "\n",
    "def fast_lmfit_sed2(theta, gamma, wavelengths):\n",
    "    c = 299792458.0  # m/s\n",
    "    nu_in = np.array([c * 1.e6 / wv for wv in wavelengths])\n",
    "\n",
    "    A, T = theta\n",
    "    betain, alphain = gamma\n",
    "    ng = np.size(A)\n",
    "\n",
    "    base = 2.0 * (6.626) ** (-2.0 - betain - alphain) * (1.38) ** (3. + betain + alphain) / (2.99792458) ** 2.0\n",
    "    expo = 34.0 * (2.0 + betain + alphain) - 23.0 * (3.0 + betain + alphain) - 16.0 + 26.0\n",
    "    K = base * 10.0 ** expo\n",
    "    w_num = 10 ** A * K * (T * (3.0 + betain + alphain)) ** (3.0 + betain + alphain)\n",
    "    w_den = (np.exp(3.0 + betain + alphain) - 1.0)\n",
    "    w_div = w_num / w_den\n",
    "    nu_cut = (3.0 + betain + alphain) * 0.208367e11 * T\n",
    "    graybody = np.reshape(10 ** A, (ng, 1)) * nu_in ** np.reshape(betain, (ng, 1)) * black(nu_in, T) / 1000.0\n",
    "    powerlaw = np.reshape(w_div, (ng, 1)) * nu_in ** np.reshape(-1.0 * alphain, (ng, 1))\n",
    "    graybody[np.where(nu_in >= np.reshape(nu_cut, (ng, 1)))] = \\\n",
    "        powerlaw[np.where(nu_in >= np.reshape(nu_cut, (ng, 1)))]\n",
    "\n",
    "    return graybody\n",
    "\n",
    "def fast_sed_fitter2(wvs, flux, cov, betain=1.8, redshiftin=0):\n",
    "    T0 = (10 ** (1.2 + 0.1 * redshiftin)) / (1+redshiftin)\n",
    "    A0 = -34.0\n",
    "    theta0 = A0, T0\n",
    "    gamma0 = betain, 2.0\n",
    "    popt, pcov = optimize.leastsq(find_sed_min2, theta0, args=(wvs, flux, cov, gamma0))\n",
    "    \n",
    "    return popt, pcov\n",
    "\n",
    "def find_sed_min2(theta, wavelengths, fluxes, covar, gamma):\n",
    "\n",
    "    graybody = fast_lmfit_sed2(theta, gamma, wavelengths)[0]\n",
    "    delta_y = (fluxes - graybody)\n",
    "\n",
    "    #pdb.set_trace()\n",
    "    return np.matmul(delta_y**2, np.linalg.inv(covar))"
   ]
  },
  {
   "cell_type": "markdown",
   "id": "e77acef4",
   "metadata": {},
   "source": [
    "# Test Code on Data"
   ]
  },
  {
   "cell_type": "code",
   "execution_count": 49,
   "id": "83f8ea42",
   "metadata": {},
   "outputs": [],
   "source": [
    "def plot_test_mcmc_seds(self, mcmc_dict, flat_samples, theta0, id_label, bootstrap_dict=None, errors=('25', '75')):\n",
    "    bin_keys = list(self.config_dict['parameter_names'].keys())\n",
    "    wvs = mcmc_dict['wavelengths']\n",
    "    wv_array = self.loggen(8, 1000, 100)\n",
    "    ngals = mcmc_dict['ngals']\n",
    "    z_med = mcmc_dict['z_median']\n",
    "    \n",
    "    fig, axs = plt.subplots(1, 1, figsize=(10, 7))\n",
    "    axs.text(9.0e0, 1e2, \"Ngals={0:.0f}\".format(ngals[id_label]))\n",
    "    \n",
    "    y = mcmc_dict['sed_fluxes_dict'][id_label]\n",
    "    yerr = np.cov(mcmc_dict['sed_bootstrap_fluxes_dict'][id_label], rowvar=False)\n",
    "    \n",
    "    Ain, Tin, Aerr, Terr = theta0\n",
    "    sed_params = Parameters()\n",
    "    sed_params.add('A', value=Ain, vary=True)\n",
    "    sed_params.add('T_observed', value=Tin, max=Tin*1.3, vary=True)\n",
    "    sed_params.add('beta', value=1.8, vary=False)\n",
    "    sed_params.add('alpha', value=2.0, vary=False)\n",
    "    sed_array =  fast_lmfit_sed(sed_params, wv_array)\n",
    "    \n",
    "    axs.plot(wv_array, sed_array[0] * 1e3, color='k', lw=0.5)\n",
    "    \n",
    "    if np.sum(y > 0):\n",
    "        prior_label = \"A0={0:.1f}+-{1:.1f}, Trf0={2:.1f}+-{3:.1f}\".format(Ain, Aerr, Tin * (1 + z_med[id_label]), Terr)\n",
    "        axs.text(9.0e0, 1.75e2, prior_label)\n",
    "\n",
    "        mcmc_out = [np.percentile(flat_samples[:, i], [float(errors[0]), 50, float(errors[1])])\n",
    "                    for i in range(np.shape(flat_samples)[1])]\n",
    "        mcmc_lo = fast_scipy_sed([mcmc_out[0][0], mcmc_out[1][0]], wv_array)\n",
    "        mcmc_50 = fast_scipy_sed([mcmc_out[0][1], mcmc_out[1][1]], wv_array)\n",
    "        mcmc_hi = fast_scipy_sed([mcmc_out[0][2], mcmc_out[1][2]], wv_array)\n",
    "        mcmc_label = \"A={0:.1f}, Trf={1:.1f}\".format(mcmc_out[0][1], mcmc_out[1][1] * (1 + z_med[id_label]))\n",
    "\n",
    "        axs.plot(wv_array, mcmc_50[0] * 1e3, color='c', lw=0.8, label=mcmc_label)\n",
    "        axs.fill_between(wv_array, mcmc_lo[0] * 1e3, mcmc_hi[0] * 1e3, facecolor='c',\n",
    "                                 alpha=0.3, edgecolor='c')\n",
    "    else:\n",
    "        pdb.set_trace()\n",
    "        \n",
    "    for iwv, wv in enumerate(wvs):\n",
    "        if wv in [24, 70]:\n",
    "            color = 'b'\n",
    "        elif wv in [100, 160]:\n",
    "            color = 'g'\n",
    "        elif wv in [250, 350, 500]:\n",
    "            color = 'r'\n",
    "        elif wv in [850]:\n",
    "            color = 'y'\n",
    "\n",
    "        if bootstrap_dict is not None:\n",
    "            for iboot in range(len(bootstrap_dict['sed_bootstrap_fluxes_dict'][id_label.replace('.', 'p')])):\n",
    "                yplot_boot = bootstrap_dict['sed_bootstrap_fluxes_dict'][id_label.replace('.', 'p')][iboot] * 1e3\n",
    "                axs.scatter(wvs, yplot_boot, color=color, alpha=0.1)\n",
    "\n",
    "        axs.scatter(wv, y[iwv] * 1e3, marker='o', s=90, facecolors='none', edgecolors=color)\n",
    "        axs.errorbar(wv, y[iwv] * 1e3, yerr=np.sqrt(np.diag(yerr)[iwv]) * 1e3,\n",
    "                             fmt=\".\" + color, capsize=0)\n",
    "\n",
    "    axs.set_xscale('log')\n",
    "    axs.set_yscale('log')\n",
    "    axs.set_ylim([5e-3, 5e2])\n",
    "    axs.legend(loc='upper left', frameon=False)\n",
    "    axs.set_title(id_label)"
   ]
  },
  {
   "cell_type": "code",
   "execution_count": 48,
   "id": "9df94bd2",
   "metadata": {},
   "outputs": [
    {
     "name": "stdout",
     "output_type": "stream",
     "text": [
      "> \u001b[1;32m<ipython-input-47-4020d15e2007>\u001b[0m(24)\u001b[0;36mmcmc_sed_estimator\u001b[1;34m()\u001b[0m\n",
      "\u001b[1;32m     22 \u001b[1;33m    \u001b[0mdfluxes_nd\u001b[0m \u001b[1;33m=\u001b[0m \u001b[0myerr_diag\u001b[0m\u001b[1;33m[\u001b[0m\u001b[0mind_d\u001b[0m \u001b[1;33m==\u001b[0m \u001b[1;32mTrue\u001b[0m\u001b[1;33m]\u001b[0m\u001b[1;33m\u001b[0m\u001b[1;33m\u001b[0m\u001b[0m\n",
      "\u001b[0m\u001b[1;32m     23 \u001b[1;33m    \u001b[0mpdb\u001b[0m\u001b[1;33m.\u001b[0m\u001b[0mset_trace\u001b[0m\u001b[1;33m(\u001b[0m\u001b[1;33m)\u001b[0m\u001b[1;33m\u001b[0m\u001b[1;33m\u001b[0m\u001b[0m\n",
      "\u001b[0m\u001b[1;32m---> 24 \u001b[1;33m    sampler = emcee.EnsembleSampler(\n",
      "\u001b[0m\u001b[1;32m     25 \u001b[1;33m        \u001b[0mnwalkers\u001b[0m\u001b[1;33m,\u001b[0m \u001b[0mndim\u001b[0m\u001b[1;33m,\u001b[0m \u001b[0mlog_probability_full\u001b[0m\u001b[1;33m,\u001b[0m \u001b[0margs\u001b[0m\u001b[1;33m=\u001b[0m\u001b[1;33m(\u001b[0m\u001b[0mwvs\u001b[0m\u001b[1;33m,\u001b[0m \u001b[0mfluxes\u001b[0m\u001b[1;33m,\u001b[0m \u001b[0mcov_fluxes\u001b[0m\u001b[1;33m,\u001b[0m \u001b[0mwvs_nd\u001b[0m\u001b[1;33m,\u001b[0m \u001b[0mfluxes_nd\u001b[0m\u001b[1;33m,\u001b[0m \u001b[0mdfluxes_nd\u001b[0m\u001b[1;33m)\u001b[0m\u001b[1;33m\u001b[0m\u001b[1;33m\u001b[0m\u001b[0m\n",
      "\u001b[0m\u001b[1;32m     26 \u001b[1;33m    )\n",
      "\u001b[0m\n",
      "ipdb> c\n"
     ]
    },
    {
     "name": "stderr",
     "output_type": "stream",
     "text": [
      "100%|████████████████████████████████████████████████████████████████████████████████| 500/500 [00:18<00:00, 26.36it/s]\n"
     ]
    }
   ],
   "source": [
    "# Identify one bin to test as id_label_in\n",
    "id_label_in = 'redshift_3.0_3.5__stellar_mass_10.0_10.5__split_params_1'\n",
    "test_flat_samples, test_theta0 = estimate_mcmc_sed(sed_results_dict, id_label_in, mcmc_iterations=500, mcmc_discard=5)"
   ]
  },
  {
   "cell_type": "code",
   "execution_count": 50,
   "id": "90e8209c",
   "metadata": {},
   "outputs": [
    {
     "data": {
      "image/png": "[encoded data removed]",
      "text/plain": [
       "<Figure size 720x504 with 1 Axes>"
      ]
     },
     "metadata": {
      "needs_background": "light"
     },
     "output_type": "display_data"
    }
   ],
   "source": [
    "plot_test_mcmc_seds(simstack_object, sed_results_dict, test_flat_samples, test_theta0, id_label_in)"
   ]
  },
  {
   "cell_type": "code",
   "execution_count": null,
   "id": "8e749930",
   "metadata": {},
   "outputs": [],
   "source": []
  },
  {
   "cell_type": "code",
   "execution_count": null,
   "id": "acdac9cf",
   "metadata": {},
   "outputs": [],
   "source": []
  }
 ],
 "metadata": {
  "kernelspec": {
   "display_name": "Python 3",
   "language": "python",
   "name": "python3"
  },
  "language_info": {
   "codemirror_mode": {
    "name": "ipython",
    "version": 3
   },
   "file_extension": ".py",
   "mimetype": "text/x-python",
   "name": "python",
   "nbconvert_exporter": "python",
   "pygments_lexer": "ipython3",
   "version": "3.8.10"
  }
 },
 "nbformat": 4,
 "nbformat_minor": 5
}
