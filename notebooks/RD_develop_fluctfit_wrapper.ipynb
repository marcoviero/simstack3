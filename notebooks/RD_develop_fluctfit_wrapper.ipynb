{
 "cells": [
  {
   "cell_type": "code",
   "execution_count": 1,
   "id": "7d58ee1d",
   "metadata": {},
   "outputs": [
    {
     "data": {
      "text/html": [
       "<style>.container { width:98% !important; }</style>"
      ],
      "text/plain": [
       "<IPython.core.display.HTML object>"
      ]
     },
     "metadata": {},
     "output_type": "display_data"
    }
   ],
   "source": [
    "# Standard modules\n",
    "import pdb\n",
    "import sys\n",
    "import os\n",
    "import pickle\n",
    "import numpy as np\n",
    "import pandas as pd\n",
    "import matplotlib.pyplot as plt\n",
    "from astropy.wcs import WCS\n",
    "\n",
    "import warnings\n",
    "warnings.filterwarnings(\"ignore\")\n",
    "\n",
    "sys.path.append(\"..\")\n",
    "\n",
    "from fluctfitwrapper import FluctFitWrapper\n",
    "\n",
    "from IPython.display import display, HTML\n",
    "display(HTML(\"<style>.container { width:98% !important; }</style>\"))"
   ]
  },
  {
   "cell_type": "code",
   "execution_count": 2,
   "id": "6e843e00",
   "metadata": {},
   "outputs": [],
   "source": [
    "# Define Path to configuration file\n",
    "path_ini_file = os.path.join(\"..\",\"config\",\"uvista.ini\")\n",
    "populations=['sf', 'qt','agn']\n",
    "populations=['sf']"
   ]
  },
  {
   "cell_type": "code",
   "execution_count": null,
   "id": "70a0cf50",
   "metadata": {},
   "outputs": [],
   "source": [
    "# Use SimstackWrapper to read in config file and perform stack.\n",
    "fluctfit_object = FluctFitWrapper(path_ini_file, \n",
    "                                  read_maps=True, \n",
    "                                  read_catalog=True, \n",
    "                                  keep_catalog=True,\n",
    "                                  fit_automatically=True, \n",
    "                                  populations=populations,\n",
    "                                  overwrite_results=True)"
   ]
  },
  {
   "cell_type": "raw",
   "id": "f8ba119e",
   "metadata": {},
   "source": [
    "simmap_dict = fluctfit_object.get_datacube(populations=populations)"
   ]
  },
  {
   "cell_type": "raw",
   "id": "527c00f9",
   "metadata": {},
   "source": [
    "cov_direct_fit = fluctfit_object.perform_fluctfit()"
   ]
  },
  {
   "cell_type": "code",
   "execution_count": null,
   "id": "290b98c0",
   "metadata": {},
   "outputs": [],
   "source": [
    "fluctfit_object.results_dict['cov_direct_fit'].params"
   ]
  },
  {
   "cell_type": "code",
   "execution_count": 4,
   "id": "e1204333",
   "metadata": {},
   "outputs": [
    {
     "data": {
      "text/html": [
       "<table><tr><th> name </th><th> value </th><th> standard error </th><th> relative error </th><th> initial value </th><th> min </th><th> max </th><th> vary </th></tr><tr><td> A_offset_sf </td><td> -41.9992491 </td><td>  3614.44482 </td><td> (8605.97%) </td><td> -42 </td><td>        -inf </td><td>         inf </td><td> True </td></tr><tr><td> T_offset_sf </td><td>  23.0087510 </td><td>  34438.9470 </td><td> (149677.60%) </td><td> 23 </td><td>        -inf </td><td>         inf </td><td> True </td></tr><tr><td> A_offset_qt </td><td> -47.1492024 </td><td>  27930127.8 </td><td> (59237752.47%) </td><td> -50 </td><td>        -inf </td><td>         inf </td><td> True </td></tr><tr><td> T_offset_qt </td><td>  161.892928 </td><td>  1.2918e+09 </td><td> (797925368.15%) </td><td> 130 </td><td>        -inf </td><td>         inf </td><td> True </td></tr><tr><td> A_offset_agn </td><td> -40.9998467 </td><td>  704.701906 </td><td> (1718.79%) </td><td> -41 </td><td>        -inf </td><td>         inf </td><td> True </td></tr><tr><td> T_offset_agn </td><td>  18.0016622 </td><td>  6752.59266 </td><td> (37510.94%) </td><td> 18 </td><td>        -inf </td><td>         inf </td><td> True </td></tr><tr><td> A_slope_redshift_sf </td><td>  0.20156017 </td><td>  1439.52869 </td><td> (714193.04%) </td><td> 0.2 </td><td>        -inf </td><td>         inf </td><td> True </td></tr><tr><td> T_slope_redshift_sf </td><td>  0.21797115 </td><td>  16781.5855 </td><td> (7698993.69%) </td><td> 0.2 </td><td>        -inf </td><td>         inf </td><td> True </td></tr><tr><td> A_slope_redshift_qt </td><td>  0.24463909 </td><td>  2819057.78 </td><td> (1152333313.00%) </td><td> 0.2 </td><td>        -inf </td><td>         inf </td><td> True </td></tr><tr><td> T_slope_redshift_qt </td><td>  0.14887153 </td><td>  4040542.00 </td><td> (2714113272.73%) </td><td> 0.2 </td><td>        -inf </td><td>         inf </td><td> True </td></tr><tr><td> A_slope_redshift_agn </td><td>  0.20023686 </td><td>  259.751248 </td><td> (129722.00%) </td><td> 0.2 </td><td>        -inf </td><td>         inf </td><td> True </td></tr><tr><td> T_slope_redshift_agn </td><td>  0.20258318 </td><td>  2620.32969 </td><td> (1293458.67%) </td><td> 0.2 </td><td>        -inf </td><td>         inf </td><td> True </td></tr><tr><td> A_slope_stellar_mass_sf </td><td>  0.20008204 </td><td>  359.317478 </td><td> (179585.08%) </td><td> 0.2 </td><td>        -inf </td><td>         inf </td><td> True </td></tr><tr><td> T_slope_stellar_mass_sf </td><td>  0.20095611 </td><td>  3331.97838 </td><td> (1658062.70%) </td><td> 0.2 </td><td>        -inf </td><td>         inf </td><td> True </td></tr><tr><td> A_slope_stellar_mass_qt </td><td>  0.25806898 </td><td>  1479195.58 </td><td> (573178367.65%) </td><td> 0.2 </td><td>        -inf </td><td>         inf </td><td> True </td></tr><tr><td> T_slope_stellar_mass_qt </td><td>  0.11451324 </td><td>  3890252.92 </td><td> (3397207861.44%) </td><td> 0.2 </td><td>        -inf </td><td>         inf </td><td> True </td></tr><tr><td> A_slope_stellar_mass_agn </td><td>  0.20001648 </td><td>  70.7267561 </td><td> (35360.46%) </td><td> 0.2 </td><td>        -inf </td><td>         inf </td><td> True </td></tr><tr><td> T_slope_stellar_mass_agn </td><td>  0.20018008 </td><td>  684.519843 </td><td> (341952.03%) </td><td> 0.2 </td><td>        -inf </td><td>         inf </td><td> True </td></tr><tr><td> A_slope_agn_fraction_sf </td><td>  0.19950988 </td><td>  649.541655 </td><td> (325568.67%) </td><td> 0.2 </td><td>        -inf </td><td>         inf </td><td> True </td></tr><tr><td> T_slope_agn_fraction_sf </td><td>  0.19472165 </td><td>  7675.32878 </td><td> (3941692.61%) </td><td> 0.2 </td><td>        -inf </td><td>         inf </td><td> True </td></tr><tr><td> A_slope_agn_fraction_qt </td><td>  0.13667472 </td><td>  2527752.92 </td><td> (1849466304.34%) </td><td> 0.2 </td><td>        -inf </td><td>         inf </td><td> True </td></tr><tr><td> T_slope_agn_fraction_qt </td><td>  0.20430607 </td><td>  3280958.25 </td><td> (1605903450.06%) </td><td> 0.2 </td><td>        -inf </td><td>         inf </td><td> True </td></tr><tr><td> A_slope_agn_fraction_agn </td><td>  0.20015596 </td><td>  202.333705 </td><td> (101088.03%) </td><td> 0.2 </td><td>        -inf </td><td>         inf </td><td> True </td></tr><tr><td> T_slope_agn_fraction_agn </td><td>  0.20168212 </td><td>  2061.77653 </td><td> (1022290.19%) </td><td> 0.2 </td><td>        -inf </td><td>         inf </td><td> True </td></tr></table>"
      ],
      "text/plain": [
       "Parameters([('A_offset_sf',\n",
       "             <Parameter 'A_offset_sf', value=-41.99924911289264 +/- 3.61e+03, bounds=[-inf:inf]>),\n",
       "            ('T_offset_sf',\n",
       "             <Parameter 'T_offset_sf', value=23.00875104502316 +/- 3.44e+04, bounds=[-inf:inf]>),\n",
       "            ('A_offset_qt',\n",
       "             <Parameter 'A_offset_qt', value=-47.14920238549834 +/- 2.79e+07, bounds=[-inf:inf]>),\n",
       "            ('T_offset_qt',\n",
       "             <Parameter 'T_offset_qt', value=161.89292797904292 +/- 1.29e+09, bounds=[-inf:inf]>),\n",
       "            ('A_offset_agn',\n",
       "             <Parameter 'A_offset_agn', value=-40.99984674174756 +/- 705, bounds=[-inf:inf]>),\n",
       "            ('T_offset_agn',\n",
       "             <Parameter 'T_offset_agn', value=18.001662238567306 +/- 6.75e+03, bounds=[-inf:inf]>),\n",
       "            ('A_slope_redshift_sf',\n",
       "             <Parameter 'A_slope_redshift_sf', value=0.20156016595826826 +/- 1.44e+03, bounds=[-inf:inf]>),\n",
       "            ('T_slope_redshift_sf',\n",
       "             <Parameter 'T_slope_redshift_sf', value=0.2179711548277474 +/- 1.68e+04, bounds=[-inf:inf]>),\n",
       "            ('A_slope_redshift_qt',\n",
       "             <Parameter 'A_slope_redshift_qt', value=0.24463909448883236 +/- 2.82e+06, bounds=[-inf:inf]>),\n",
       "            ('T_slope_redshift_qt',\n",
       "             <Parameter 'T_slope_redshift_qt', value=0.14887153160494815 +/- 4.04e+06, bounds=[-inf:inf]>),\n",
       "            ('A_slope_redshift_agn',\n",
       "             <Parameter 'A_slope_redshift_agn', value=0.20023685796342935 +/- 260, bounds=[-inf:inf]>),\n",
       "            ('T_slope_redshift_agn',\n",
       "             <Parameter 'T_slope_redshift_agn', value=0.20258317894391117 +/- 2.62e+03, bounds=[-inf:inf]>),\n",
       "            ('A_slope_stellar_mass_sf',\n",
       "             <Parameter 'A_slope_stellar_mass_sf', value=0.20008203796916932 +/- 359, bounds=[-inf:inf]>),\n",
       "            ('T_slope_stellar_mass_sf',\n",
       "             <Parameter 'T_slope_stellar_mass_sf', value=0.20095611418400597 +/- 3.33e+03, bounds=[-inf:inf]>),\n",
       "            ('A_slope_stellar_mass_qt',\n",
       "             <Parameter 'A_slope_stellar_mass_qt', value=0.2580689827511897 +/- 1.48e+06, bounds=[-inf:inf]>),\n",
       "            ('T_slope_stellar_mass_qt',\n",
       "             <Parameter 'T_slope_stellar_mass_qt', value=0.11451324367953876 +/- 3.89e+06, bounds=[-inf:inf]>),\n",
       "            ('A_slope_stellar_mass_agn',\n",
       "             <Parameter 'A_slope_stellar_mass_agn', value=0.20001648362690022 +/- 70.7, bounds=[-inf:inf]>),\n",
       "            ('T_slope_stellar_mass_agn',\n",
       "             <Parameter 'T_slope_stellar_mass_agn', value=0.2001800758628241 +/- 685, bounds=[-inf:inf]>),\n",
       "            ('A_slope_agn_fraction_sf',\n",
       "             <Parameter 'A_slope_agn_fraction_sf', value=0.19950987890535077 +/- 650, bounds=[-inf:inf]>),\n",
       "            ('T_slope_agn_fraction_sf',\n",
       "             <Parameter 'T_slope_agn_fraction_sf', value=0.19472164726000574 +/- 7.68e+03, bounds=[-inf:inf]>),\n",
       "            ('A_slope_agn_fraction_qt',\n",
       "             <Parameter 'A_slope_agn_fraction_qt', value=0.13667472170389328 +/- 2.53e+06, bounds=[-inf:inf]>),\n",
       "            ('T_slope_agn_fraction_qt',\n",
       "             <Parameter 'T_slope_agn_fraction_qt', value=0.20430607132242537 +/- 3.28e+06, bounds=[-inf:inf]>),\n",
       "            ('A_slope_agn_fraction_agn',\n",
       "             <Parameter 'A_slope_agn_fraction_agn', value=0.20015595757404453 +/- 202, bounds=[-inf:inf]>),\n",
       "            ('T_slope_agn_fraction_agn',\n",
       "             <Parameter 'T_slope_agn_fraction_agn', value=0.201682121484574 +/- 2.06e+03, bounds=[-inf:inf]>)])"
      ]
     },
     "execution_count": 4,
     "metadata": {},
     "output_type": "execute_result"
    }
   ],
   "source": [
    "fluctfit_object.results_dict['cov_direct_fit'].params"
   ]
  },
  {
   "cell_type": "code",
   "execution_count": 30,
   "id": "61add1cb",
   "metadata": {},
   "outputs": [],
   "source": [
    "def model_A_or_Tdust(params, X):\n",
    "    v = params.valuesdict().copy()\n",
    "    if 'A_offset' in v:\n",
    "        model = v.pop('A_offset')\n",
    "    elif 'T_offset' in v:\n",
    "        model = v.pop('T_offset')\n",
    "    if 'A_offset_sf' in v:\n",
    "        model = v.pop('A_offset_sf')\n",
    "    elif 'T_offset_sf' in v:\n",
    "        model = v.pop('T_offset_sf')\n",
    "    if 'A_offset_qt' in v:\n",
    "        model = v.pop('A_offset_qt')\n",
    "    elif 'T_offset_qt' in v:\n",
    "        model = v.pop('T_offset_qt')\n",
    "    if 'A_offset_agn' in v:\n",
    "        model = v.pop('A_offset_agn')\n",
    "    elif 'T_offset_agn' in v:\n",
    "        model = v.pop('T_offset_agn')\n",
    "    for i, ival in enumerate(v):\n",
    "        model+= X[i] * v[ival]\n",
    "    return model"
   ]
  },
  {
   "cell_type": "code",
   "execution_count": 9,
   "id": "420aed8d",
   "metadata": {
    "scrolled": true
   },
   "outputs": [
    {
     "data": {
      "text/plain": [
       "['z_peak', 'LMASS', 'F_ratio', 'sfg']"
      ]
     },
     "execution_count": 9,
     "metadata": {},
     "output_type": "execute_result"
    }
   ],
   "source": [
    "fluctfit_object.datacube_dict['catalog_keys']"
   ]
  },
  {
   "cell_type": "code",
   "execution_count": 25,
   "id": "2a1fa2c0",
   "metadata": {},
   "outputs": [
    {
     "data": {
      "text/plain": [
       "{'redshift': 'z_peak',\n",
       " 'stellar_mass': 'LMASS',\n",
       " 'agn_fraction': 'F_ratio',\n",
       " 'split_params': 'sfg'}"
      ]
     },
     "execution_count": 25,
     "metadata": {},
     "output_type": "execute_result"
    }
   ],
   "source": [
    "fluctfit_object.datacube_dict['catalog_dict'] "
   ]
  },
  {
   "cell_type": "code",
   "execution_count": 37,
   "id": "8e3875da",
   "metadata": {},
   "outputs": [],
   "source": [
    "datacube_sf = fluctfit_object.datacube_dict['datacube'][fluctfit_object.datacube_dict['idx']['sf']]\n",
    "datacube_qt = fluctfit_object.datacube_dict['datacube'][fluctfit_object.datacube_dict['idx']['qt']]\n",
    "datacube_agn = fluctfit_object.datacube_dict['datacube'][fluctfit_object.datacube_dict['idx']['agn']]"
   ]
  },
  {
   "cell_type": "code",
   "execution_count": 34,
   "id": "295b78f7",
   "metadata": {},
   "outputs": [],
   "source": [
    "cov_direct_fit_three=fluctfit_object.results_dict['cov_direct_fit']\n",
    "\n",
    "vT_sf_three = cov_direct_fit_three.params.copy()\n",
    "vA_sf_three = cov_direct_fit_three.params.copy()\n",
    "vT_qt_three = cov_direct_fit_three.params.copy()\n",
    "vA_qt_three = cov_direct_fit_three.params.copy()\n",
    "vT_agn_three = cov_direct_fit_three.params.copy()\n",
    "vA_agn_three = cov_direct_fit_three.params.copy()\n",
    "\n",
    "Alist = [i for i, j in vA_sf_three.items() if (('A_' in i) or ('_qt' in i) or ('t_agn' in i) or ('s_agn' in i) or ('n_agn' in i))]\n",
    "Tlist = [i for i, j in vT_sf_three.items() if (('T_' in i) or ('_qt' in i) or ('t_agn' in i) or ('s_agn' in i) or ('n_agn' in i))]\n",
    "Apop=[vA_sf_three.pop(i) for i in Tlist]\n",
    "Tpop=[vT_sf_three.pop(i) for i in Alist]\n",
    "\n",
    "Alist = [i for i, j in vA_qt_three.items() if (('A_' in i) or ('_sf' in i) or ('t_agn' in i) or ('s_agn' in i) or ('n_agn' in i))]\n",
    "Tlist = [i for i, j in vT_qt_three.items() if (('T_' in i) or ('_sf' in i) or ('t_agn' in i) or ('s_agn' in i) or ('n_agn' in i))]\n",
    "Apop=[vA_qt_three.pop(i) for i in Tlist]\n",
    "Tpop=[vT_qt_three.pop(i) for i in Alist]\n",
    "\n",
    "Alist = [i for i, j in vA_agn_three.items() if (('A_' in i) or ('_sf' in i) or ('_qt' in i))]\n",
    "Tlist = [i for i, j in vT_agn_three.items() if (('T_' in i) or ('_sf' in i) or ('_qt' in i))]\n",
    "Apop=[vA_agn_three.pop(i) for i in Tlist]\n",
    "Tpop=[vT_agn_three.pop(i) for i in Alist]"
   ]
  },
  {
   "cell_type": "code",
   "execution_count": 41,
   "id": "4fa726c4",
   "metadata": {},
   "outputs": [],
   "source": [
    "Zs_sf = datacube_sf[fluctfit_object.datacube_dict['catalog_dict']['redshift']]\n",
    "Ms_sf = datacube_sf[fluctfit_object.datacube_dict['catalog_dict']['stellar_mass']]\n",
    "Zs_qt = datacube_qt[fluctfit_object.datacube_dict['catalog_dict']['redshift']]\n",
    "Ms_qt = datacube_qt[fluctfit_object.datacube_dict['catalog_dict']['stellar_mass']]\n",
    "Zs_agn = datacube_agn[fluctfit_object.datacube_dict['catalog_dict']['redshift']]\n",
    "Ms_agn = datacube_agn[fluctfit_object.datacube_dict['catalog_dict']['stellar_mass']]"
   ]
  },
  {
   "cell_type": "code",
   "execution_count": 56,
   "id": "d9abc0de",
   "metadata": {},
   "outputs": [
    {
     "data": {
      "text/html": [
       "<table><tr><th> name </th><th> value </th><th> standard error </th><th> relative error </th><th> initial value </th><th> min </th><th> max </th><th> vary </th></tr><tr><td> A_offset_sf </td><td> -41.9992491 </td><td>  3614.44482 </td><td> (8605.97%) </td><td> -42 </td><td>        -inf </td><td>         inf </td><td> True </td></tr><tr><td> A_slope_redshift_sf </td><td>  0.20156017 </td><td>  1439.52869 </td><td> (714193.04%) </td><td> 0.2 </td><td>        -inf </td><td>         inf </td><td> True </td></tr><tr><td> A_slope_stellar_mass_sf </td><td>  0.20008204 </td><td>  359.317478 </td><td> (179585.08%) </td><td> 0.2 </td><td>        -inf </td><td>         inf </td><td> True </td></tr><tr><td> A_slope_agn_fraction_sf </td><td>  0.19950988 </td><td>  649.541655 </td><td> (325568.67%) </td><td> 0.2 </td><td>        -inf </td><td>         inf </td><td> True </td></tr></table>"
      ],
      "text/plain": [
       "Parameters([('A_offset_sf',\n",
       "             <Parameter 'A_offset_sf', value=-41.99924911289264 +/- 3.61e+03, bounds=[-inf:inf]>),\n",
       "            ('A_slope_redshift_sf',\n",
       "             <Parameter 'A_slope_redshift_sf', value=0.20156016595826826 +/- 1.44e+03, bounds=[-inf:inf]>),\n",
       "            ('A_slope_stellar_mass_sf',\n",
       "             <Parameter 'A_slope_stellar_mass_sf', value=0.20008203796916932 +/- 359, bounds=[-inf:inf]>),\n",
       "            ('A_slope_agn_fraction_sf',\n",
       "             <Parameter 'A_slope_agn_fraction_sf', value=0.19950987890535077 +/- 650, bounds=[-inf:inf]>)])"
      ]
     },
     "execution_count": 56,
     "metadata": {},
     "output_type": "execute_result"
    }
   ],
   "source": [
    "vA_sf_three"
   ]
  },
  {
   "cell_type": "code",
   "execution_count": 57,
   "id": "4861a5b5",
   "metadata": {},
   "outputs": [
    {
     "data": {
      "text/html": [
       "<table><tr><th> name </th><th> value </th><th> standard error </th><th> relative error </th><th> initial value </th><th> min </th><th> max </th><th> vary </th></tr><tr><td> T_offset_sf </td><td>  23.0087510 </td><td>  34438.9470 </td><td> (149677.60%) </td><td> 23 </td><td>        -inf </td><td>         inf </td><td> True </td></tr><tr><td> T_slope_redshift_sf </td><td>  0.21797115 </td><td>  16781.5855 </td><td> (7698993.69%) </td><td> 0.2 </td><td>        -inf </td><td>         inf </td><td> True </td></tr><tr><td> T_slope_stellar_mass_sf </td><td>  0.20095611 </td><td>  3331.97838 </td><td> (1658062.70%) </td><td> 0.2 </td><td>        -inf </td><td>         inf </td><td> True </td></tr><tr><td> T_slope_agn_fraction_sf </td><td>  0.19472165 </td><td>  7675.32878 </td><td> (3941692.61%) </td><td> 0.2 </td><td>        -inf </td><td>         inf </td><td> True </td></tr></table>"
      ],
      "text/plain": [
       "Parameters([('T_offset_sf',\n",
       "             <Parameter 'T_offset_sf', value=23.00875104502316 +/- 3.44e+04, bounds=[-inf:inf]>),\n",
       "            ('T_slope_redshift_sf',\n",
       "             <Parameter 'T_slope_redshift_sf', value=0.2179711548277474 +/- 1.68e+04, bounds=[-inf:inf]>),\n",
       "            ('T_slope_stellar_mass_sf',\n",
       "             <Parameter 'T_slope_stellar_mass_sf', value=0.20095611418400597 +/- 3.33e+03, bounds=[-inf:inf]>),\n",
       "            ('T_slope_agn_fraction_sf',\n",
       "             <Parameter 'T_slope_agn_fraction_sf', value=0.19472164726000574 +/- 7.68e+03, bounds=[-inf:inf]>)])"
      ]
     },
     "execution_count": 57,
     "metadata": {},
     "output_type": "execute_result"
    }
   ],
   "source": [
    "vT_sf_three"
   ]
  },
  {
   "cell_type": "code",
   "execution_count": 45,
   "id": "ceef5ad6",
   "metadata": {},
   "outputs": [],
   "source": [
    "As_sf = model_A_or_Tdust(vA_sf_three,\n",
    "                         fluctfit_object.datacube_dict['datacube'][fluctfit_object.datacube_dict['idx']['sf']].to_numpy().T)\n",
    "Ts_sf = model_A_or_Tdust(vT_sf_three,\n",
    "                         fluctfit_object.datacube_dict['datacube'][fluctfit_object.datacube_dict['idx']['sf']].to_numpy().T)\n",
    "As_qt = model_A_or_Tdust(vA_qt_three,\n",
    "                         fluctfit_object.datacube_dict['datacube'][fluctfit_object.datacube_dict['idx']['qt']].to_numpy().T)\n",
    "Ts_qt = model_A_or_Tdust(vT_qt_three,\n",
    "                         fluctfit_object.datacube_dict['datacube'][fluctfit_object.datacube_dict['idx']['qt']].to_numpy().T)"
   ]
  },
  {
   "cell_type": "code",
   "execution_count": 47,
   "id": "69c731de",
   "metadata": {},
   "outputs": [
    {
     "name": "stdout",
     "output_type": "stream",
     "text": [
      "(61944,)\n",
      "(25307,)\n",
      "(25307,)\n",
      "(25307,)\n"
     ]
    }
   ],
   "source": [
    "print(np.shape(Zs_sf))\n",
    "print(np.shape(Ms_qt))\n",
    "print(np.shape(As_qt))\n",
    "print(np.shape(Ts_qt))"
   ]
  },
  {
   "cell_type": "code",
   "execution_count": 52,
   "id": "71131d2c",
   "metadata": {},
   "outputs": [
    {
     "data": {
      "text/plain": [
       "array([23.54190705, 23.93035313, 23.92390871, ..., 25.68044028,\n",
       "       25.48367056, 25.95464198])"
      ]
     },
     "execution_count": 52,
     "metadata": {},
     "output_type": "execute_result"
    }
   ],
   "source": [
    "Ts_sf"
   ]
  },
  {
   "cell_type": "code",
   "execution_count": 55,
   "id": "7a5ddbc9",
   "metadata": {},
   "outputs": [
    {
     "data": {
      "image/png": "[encoded data removed]",
      "text/plain": [
       "<Figure size 648x360 with 1 Axes>"
      ]
     },
     "metadata": {
      "needs_background": "light"
     },
     "output_type": "display_data"
    }
   ],
   "source": [
    "import seaborn as sns\n",
    "fig, ax = plt.subplots(1,1, figsize=(9,5))\n",
    "sns.set_color_codes(palette='pastel')\n",
    "fig=sns.scatterplot(Zs_sf,Ts_sf, hue=Ms_sf)\n",
    "#fig.set(ylim=(-38,-32))\n",
    "fig.set(ylabel='Tdust')\n",
    "fig.set(xlabel='redshift')\n",
    "zs_model=np.linspace(0,5,20)\n",
    "ms_list=[9.6,10,10.4,10.8,11.2]\n",
    "as_list=[.1,.5,.9]\n",
    "as_ls=['-','--',':']\n",
    "for i, im in enumerate(ms_list):\n",
    "    ms_model=np.zeros_like(zs_model)+im\n",
    "    for j, ja in enumerate(as_list):\n",
    "        as_model=np.zeros_like(zs_model)+ja\n",
    "        T_mod_plot = model_A_or_Tdust(vT_sf_three, np.array([zs_model.tolist(),ms_model.tolist(),as_model.tolist()]))\n",
    "        plt.plot(zs_model, T_mod_plot, as_ls[j])\n",
    "        \n",
    "plt.plot(zs_model, 27*((1+zs_model)/(1+1))**(0.4), '-.k', lw=2.5, label='Viero 2013');\n",
    "Tv22 = 23.8 + 2.7 * zs_model + 0.9 * zs_model**2\n",
    "plt.plot(zs_model, Tv22, '--k', lw=2.5, label='Viero 2022');\n",
    "plt.legend();"
   ]
  },
  {
   "cell_type": "code",
   "execution_count": 53,
   "id": "75b11dd0",
   "metadata": {},
   "outputs": [
    {
     "data": {
      "image/png": "[encoded data removed]",
      "text/plain": [
       "<Figure size 648x360 with 1 Axes>"
      ]
     },
     "metadata": {
      "needs_background": "light"
     },
     "output_type": "display_data"
    }
   ],
   "source": [
    "import seaborn as sns\n",
    "fig, ax = plt.subplots(1,1, figsize=(9,5))\n",
    "sns.set_color_codes(palette='pastel')\n",
    "fig=sns.scatterplot(Zs_qt,Ts_qt, hue=Ms_qt)\n",
    "#fig.set(ylim=(-38,-32))\n",
    "fig.set(ylabel='Tdust')\n",
    "fig.set(xlabel='redshift')\n",
    "zs_model=np.linspace(0,5,20)\n",
    "ms_list=[9.6,10,10.4,10.8,11.2]\n",
    "as_list=[.1,.5,.9]\n",
    "as_ls=['-','--',':']\n",
    "for i, im in enumerate(ms_list):\n",
    "    ms_model=np.zeros_like(zs_model)+im\n",
    "    for j, ja in enumerate(as_list):\n",
    "        as_model=np.zeros_like(zs_model)+ja\n",
    "        T_mod_plot = model_A_or_Tdust(vT_qt_three, np.array([zs_model.tolist(),ms_model.tolist(),as_model.tolist()]))\n",
    "        plt.plot(zs_model, T_mod_plot, as_ls[j])\n",
    "        \n",
    "plt.plot(zs_model, 27*((1+zs_model)/(1+1))**(0.4), '-.k', lw=2.5, label='Viero 2013');\n",
    "Tv22 = 23.8 + 2.7 * zs_model + 0.9 * zs_model**2\n",
    "plt.plot(zs_model, Tv22, '--k', lw=2.5, label='Viero 2022');\n",
    "plt.legend();"
   ]
  },
  {
   "cell_type": "code",
   "execution_count": null,
   "id": "7fb62834",
   "metadata": {},
   "outputs": [],
   "source": []
  },
  {
   "cell_type": "code",
   "execution_count": 4,
   "id": "10a01f3c",
   "metadata": {},
   "outputs": [],
   "source": [
    "simmap_dict = fluctfit_object.get_datacube()"
   ]
  },
  {
   "cell_type": "code",
   "execution_count": 5,
   "id": "39bfd56f",
   "metadata": {},
   "outputs": [],
   "source": [
    "cov_direct_fit_three3 = fluctfit_object.perform_fluctfit()"
   ]
  },
  {
   "cell_type": "code",
   "execution_count": 6,
   "id": "6366ee7c",
   "metadata": {},
   "outputs": [
    {
     "data": {
      "text/html": [
       "<table><tr><th> name </th><th> value </th><th> standard error </th><th> relative error </th><th> initial value </th><th> min </th><th> max </th><th> vary </th></tr><tr><td> A_offset_sf </td><td> -41.9992491 </td><td>  3614.44482 </td><td> (8605.97%) </td><td> -42 </td><td>        -inf </td><td>         inf </td><td> True </td></tr><tr><td> T_offset_sf </td><td>  23.0087510 </td><td>  34438.9470 </td><td> (149677.60%) </td><td> 23 </td><td>        -inf </td><td>         inf </td><td> True </td></tr><tr><td> A_offset_qt </td><td> -47.1492024 </td><td>  27930127.8 </td><td> (59237752.47%) </td><td> -50 </td><td>        -inf </td><td>         inf </td><td> True </td></tr><tr><td> T_offset_qt </td><td>  161.892928 </td><td>  1.2918e+09 </td><td> (797925368.15%) </td><td> 130 </td><td>        -inf </td><td>         inf </td><td> True </td></tr><tr><td> A_offset_agn </td><td> -40.9998467 </td><td>  704.701906 </td><td> (1718.79%) </td><td> -41 </td><td>        -inf </td><td>         inf </td><td> True </td></tr><tr><td> T_offset_agn </td><td>  18.0016622 </td><td>  6752.59266 </td><td> (37510.94%) </td><td> 18 </td><td>        -inf </td><td>         inf </td><td> True </td></tr><tr><td> A_slope_redshift_sf </td><td>  0.20156017 </td><td>  1439.52869 </td><td> (714193.04%) </td><td> 0.2 </td><td>        -inf </td><td>         inf </td><td> True </td></tr><tr><td> T_slope_redshift_sf </td><td>  0.21797115 </td><td>  16781.5855 </td><td> (7698993.69%) </td><td> 0.2 </td><td>        -inf </td><td>         inf </td><td> True </td></tr><tr><td> A_slope_redshift_qt </td><td>  0.24463909 </td><td>  2819057.78 </td><td> (1152333313.00%) </td><td> 0.2 </td><td>        -inf </td><td>         inf </td><td> True </td></tr><tr><td> T_slope_redshift_qt </td><td>  0.14887153 </td><td>  4040542.00 </td><td> (2714113272.73%) </td><td> 0.2 </td><td>        -inf </td><td>         inf </td><td> True </td></tr><tr><td> A_slope_redshift_agn </td><td>  0.20023686 </td><td>  259.751248 </td><td> (129722.00%) </td><td> 0.2 </td><td>        -inf </td><td>         inf </td><td> True </td></tr><tr><td> T_slope_redshift_agn </td><td>  0.20258318 </td><td>  2620.32969 </td><td> (1293458.67%) </td><td> 0.2 </td><td>        -inf </td><td>         inf </td><td> True </td></tr><tr><td> A_slope_stellar_mass_sf </td><td>  0.20008204 </td><td>  359.317478 </td><td> (179585.08%) </td><td> 0.2 </td><td>        -inf </td><td>         inf </td><td> True </td></tr><tr><td> T_slope_stellar_mass_sf </td><td>  0.20095611 </td><td>  3331.97838 </td><td> (1658062.70%) </td><td> 0.2 </td><td>        -inf </td><td>         inf </td><td> True </td></tr><tr><td> A_slope_stellar_mass_qt </td><td>  0.25806898 </td><td>  1479195.58 </td><td> (573178367.65%) </td><td> 0.2 </td><td>        -inf </td><td>         inf </td><td> True </td></tr><tr><td> T_slope_stellar_mass_qt </td><td>  0.11451324 </td><td>  3890252.92 </td><td> (3397207861.44%) </td><td> 0.2 </td><td>        -inf </td><td>         inf </td><td> True </td></tr><tr><td> A_slope_stellar_mass_agn </td><td>  0.20001648 </td><td>  70.7267561 </td><td> (35360.46%) </td><td> 0.2 </td><td>        -inf </td><td>         inf </td><td> True </td></tr><tr><td> T_slope_stellar_mass_agn </td><td>  0.20018008 </td><td>  684.519843 </td><td> (341952.03%) </td><td> 0.2 </td><td>        -inf </td><td>         inf </td><td> True </td></tr><tr><td> A_slope_agn_fraction_sf </td><td>  0.19950988 </td><td>  649.541655 </td><td> (325568.67%) </td><td> 0.2 </td><td>        -inf </td><td>         inf </td><td> True </td></tr><tr><td> T_slope_agn_fraction_sf </td><td>  0.19472165 </td><td>  7675.32878 </td><td> (3941692.61%) </td><td> 0.2 </td><td>        -inf </td><td>         inf </td><td> True </td></tr><tr><td> A_slope_agn_fraction_qt </td><td>  0.13667472 </td><td>  2527752.92 </td><td> (1849466304.34%) </td><td> 0.2 </td><td>        -inf </td><td>         inf </td><td> True </td></tr><tr><td> T_slope_agn_fraction_qt </td><td>  0.20430607 </td><td>  3280958.25 </td><td> (1605903450.06%) </td><td> 0.2 </td><td>        -inf </td><td>         inf </td><td> True </td></tr><tr><td> A_slope_agn_fraction_agn </td><td>  0.20015596 </td><td>  202.333705 </td><td> (101088.03%) </td><td> 0.2 </td><td>        -inf </td><td>         inf </td><td> True </td></tr><tr><td> T_slope_agn_fraction_agn </td><td>  0.20168212 </td><td>  2061.77653 </td><td> (1022290.19%) </td><td> 0.2 </td><td>        -inf </td><td>         inf </td><td> True </td></tr></table>"
      ],
      "text/plain": [
       "Parameters([('A_offset_sf',\n",
       "             <Parameter 'A_offset_sf', value=-41.99924911289264 +/- 3.61e+03, bounds=[-inf:inf]>),\n",
       "            ('T_offset_sf',\n",
       "             <Parameter 'T_offset_sf', value=23.00875104502316 +/- 3.44e+04, bounds=[-inf:inf]>),\n",
       "            ('A_offset_qt',\n",
       "             <Parameter 'A_offset_qt', value=-47.14920238549834 +/- 2.79e+07, bounds=[-inf:inf]>),\n",
       "            ('T_offset_qt',\n",
       "             <Parameter 'T_offset_qt', value=161.89292797904292 +/- 1.29e+09, bounds=[-inf:inf]>),\n",
       "            ('A_offset_agn',\n",
       "             <Parameter 'A_offset_agn', value=-40.99984674174756 +/- 705, bounds=[-inf:inf]>),\n",
       "            ('T_offset_agn',\n",
       "             <Parameter 'T_offset_agn', value=18.001662238567306 +/- 6.75e+03, bounds=[-inf:inf]>),\n",
       "            ('A_slope_redshift_sf',\n",
       "             <Parameter 'A_slope_redshift_sf', value=0.20156016595826826 +/- 1.44e+03, bounds=[-inf:inf]>),\n",
       "            ('T_slope_redshift_sf',\n",
       "             <Parameter 'T_slope_redshift_sf', value=0.2179711548277474 +/- 1.68e+04, bounds=[-inf:inf]>),\n",
       "            ('A_slope_redshift_qt',\n",
       "             <Parameter 'A_slope_redshift_qt', value=0.24463909448883236 +/- 2.82e+06, bounds=[-inf:inf]>),\n",
       "            ('T_slope_redshift_qt',\n",
       "             <Parameter 'T_slope_redshift_qt', value=0.14887153160494815 +/- 4.04e+06, bounds=[-inf:inf]>),\n",
       "            ('A_slope_redshift_agn',\n",
       "             <Parameter 'A_slope_redshift_agn', value=0.20023685796342935 +/- 260, bounds=[-inf:inf]>),\n",
       "            ('T_slope_redshift_agn',\n",
       "             <Parameter 'T_slope_redshift_agn', value=0.20258317894391117 +/- 2.62e+03, bounds=[-inf:inf]>),\n",
       "            ('A_slope_stellar_mass_sf',\n",
       "             <Parameter 'A_slope_stellar_mass_sf', value=0.20008203796916932 +/- 359, bounds=[-inf:inf]>),\n",
       "            ('T_slope_stellar_mass_sf',\n",
       "             <Parameter 'T_slope_stellar_mass_sf', value=0.20095611418400597 +/- 3.33e+03, bounds=[-inf:inf]>),\n",
       "            ('A_slope_stellar_mass_qt',\n",
       "             <Parameter 'A_slope_stellar_mass_qt', value=0.2580689827511897 +/- 1.48e+06, bounds=[-inf:inf]>),\n",
       "            ('T_slope_stellar_mass_qt',\n",
       "             <Parameter 'T_slope_stellar_mass_qt', value=0.11451324367953876 +/- 3.89e+06, bounds=[-inf:inf]>),\n",
       "            ('A_slope_stellar_mass_agn',\n",
       "             <Parameter 'A_slope_stellar_mass_agn', value=0.20001648362690022 +/- 70.7, bounds=[-inf:inf]>),\n",
       "            ('T_slope_stellar_mass_agn',\n",
       "             <Parameter 'T_slope_stellar_mass_agn', value=0.2001800758628241 +/- 685, bounds=[-inf:inf]>),\n",
       "            ('A_slope_agn_fraction_sf',\n",
       "             <Parameter 'A_slope_agn_fraction_sf', value=0.19950987890535077 +/- 650, bounds=[-inf:inf]>),\n",
       "            ('T_slope_agn_fraction_sf',\n",
       "             <Parameter 'T_slope_agn_fraction_sf', value=0.19472164726000574 +/- 7.68e+03, bounds=[-inf:inf]>),\n",
       "            ('A_slope_agn_fraction_qt',\n",
       "             <Parameter 'A_slope_agn_fraction_qt', value=0.13667472170389328 +/- 2.53e+06, bounds=[-inf:inf]>),\n",
       "            ('T_slope_agn_fraction_qt',\n",
       "             <Parameter 'T_slope_agn_fraction_qt', value=0.20430607132242537 +/- 3.28e+06, bounds=[-inf:inf]>),\n",
       "            ('A_slope_agn_fraction_agn',\n",
       "             <Parameter 'A_slope_agn_fraction_agn', value=0.20015595757404453 +/- 202, bounds=[-inf:inf]>),\n",
       "            ('T_slope_agn_fraction_agn',\n",
       "             <Parameter 'T_slope_agn_fraction_agn', value=0.201682121484574 +/- 2.06e+03, bounds=[-inf:inf]>)])"
      ]
     },
     "execution_count": 6,
     "metadata": {},
     "output_type": "execute_result"
    }
   ],
   "source": [
    "cov_direct_fit_three3.params"
   ]
  },
  {
   "cell_type": "code",
   "execution_count": null,
   "id": "dca8353a",
   "metadata": {},
   "outputs": [],
   "source": []
  },
  {
   "cell_type": "code",
   "execution_count": 5,
   "id": "3dde12fa",
   "metadata": {},
   "outputs": [],
   "source": [
    "from lmfit import Parameters, minimize, fit_report\n",
    "\n",
    "# Define Fit Parameters\n",
    "fit_params_sfg = Parameters()\n",
    "fit_params_sfg.add('A_offset_sf', value=fluctfit_object.init_dict['A']['sf']['offset'])\n",
    "fit_params_sfg.add('T_offset_sf', value=fluctfit_object.init_dict['T']['sf']['offset'])\n",
    "fit_params_sfg.add('A_offset_qt', value=fluctfit_object.init_dict['A']['qt']['offset'])\n",
    "fit_params_sfg.add('T_offset_qt', value=fluctfit_object.init_dict['T']['qt']['offset'])\n",
    "fit_params_sfg.add('A_offset_agn', value=fluctfit_object.init_dict['A']['agn']['offset'])\n",
    "fit_params_sfg.add('T_offset_agn', value=fluctfit_object.init_dict['T']['agn']['offset'])\n",
    "\n",
    "for key, val in fluctfit_object.config_dict['catalog']['classification'].items():\n",
    "\n",
    "    if 'split_params' not in key:\n",
    "        fit_params_sfg.add('A_slope_'+key+'_sf', value=fluctfit_object.init_dict['A']['sf']['slope_redshift'])\n",
    "        fit_params_sfg.add('T_slope_'+key+'_sf', value=fluctfit_object.init_dict['A']['sf']['slope_redshift'])\n",
    "        fit_params_sfg.add('A_slope_'+key+'_qt', value=fluctfit_object.init_dict['A']['sf']['slope_redshift'])\n",
    "        fit_params_sfg.add('T_slope_'+key+'_qt', value=fluctfit_object.init_dict['A']['sf']['slope_redshift'])\n",
    "        fit_params_sfg.add('A_slope_'+key+'_agn', value=fluctfit_object.init_dict['A']['sf']['slope_redshift'])\n",
    "        fit_params_sfg.add('T_slope_'+key+'_agn', value=fluctfit_object.init_dict['A']['sf']['slope_redshift'])\n",
    "\n",
    "if 1:\n",
    "    cov_direct_fit_three2 = minimize(fluctfit_object.direct_convolved_fit_A_Tdust_three_pop, fit_params_sfg,\n",
    "                         args=(fluctfit_object.datacube_dict['datacube'].to_numpy().T,),\n",
    "                         kws={'y':simmap_dict},\n",
    "                         nan_policy='propagate')"
   ]
  },
  {
   "cell_type": "code",
   "execution_count": null,
   "id": "dc9a0dd1",
   "metadata": {},
   "outputs": [],
   "source": []
  },
  {
   "cell_type": "raw",
   "id": "920b45c2",
   "metadata": {},
   "source": [
    "c = 299792458.0 # m/s\n",
    "from scipy.ndimage.filters import gaussian_filter\n",
    "def direct_convolved_fit_A_Tdust_three_pop(params, X, y):\n",
    "\n",
    "    v = params.valuesdict()#.copy()\n",
    "    A_model_sf = v.pop('A_offset_sf')\n",
    "    T_model_sf = v.pop('T_offset_sf')\n",
    "    A_model_qt = v.pop('A_offset_qt')\n",
    "    T_model_qt = v.pop('T_offset_qt')\n",
    "    A_model_agn = v.pop('A_offset_agn')\n",
    "    T_model_agn = v.pop('T_offset_agn')\n",
    "    \n",
    "    idx_sf = X[-1] == 1\n",
    "    idx_qt = X[-1] == 0\n",
    "    idx_agn= X[-1] == 2\n",
    "    Z_model_sf = X[0][idx_sf]\n",
    "    Z_model_qt = X[0][idx_qt]\n",
    "    Z_model_agn = X[0][idx_agn]\n",
    "    \n",
    "    i=0\n",
    "    for ival in v:\n",
    "        #print(ival)\n",
    "        if 'A_' in ival:\n",
    "            if 'sf' in ival:\n",
    "                A_model_sf+= X[i][idx_sf] * v[ival]\n",
    "            elif 'qt' in ival:\n",
    "                A_model_qt+= X[i][idx_qt] * v[ival]\n",
    "            else:\n",
    "                A_model_agn+= X[i][idx_agn] * v[ival]\n",
    "        else:\n",
    "            if 'sf' in ival:\n",
    "                T_model_sf+= X[i][idx_sf] * v[ival]\n",
    "            elif 'qt' in ival:\n",
    "                T_model_qt+= X[i][idx_qt] * v[ival]\n",
    "            else:\n",
    "                T_model_agn+= X[i][idx_agn] * v[ival]\n",
    "                i+=1\n",
    "                \n",
    "    #pdb.set_trace()\n",
    "    out_model = []\n",
    "    for map_name in y:\n",
    "        map_lambda = y[map_name]['wavelength']\n",
    "        map_nu = c * 1.e6/map_lambda\n",
    "        map_coords_sf = y[map_name]['map_coords']['sf']\n",
    "        map_coords_qt = y[map_name]['map_coords']['qt']\n",
    "        map_coords_agn = y[map_name]['map_coords']['agn']\n",
    "        hd = y[map_name]['header']\n",
    "        map_sky = y[map_name]['map'] - np.mean(y[map_name]['map'])\n",
    "\n",
    "        map_model = np.zeros_like(map_sky)\n",
    "        map_pixels= np.zeros_like(map_sky)\n",
    "\n",
    "        S_model_sf = get_map_flux_mJy(np.array([map_nu]),A_model_sf,T_model_sf/(1+Z_model_sf))\n",
    "        S_model_qt = get_map_flux_mJy(np.array([map_nu]),A_model_qt,T_model_qt/(1+Z_model_qt))\n",
    "        S_model_agn = get_map_flux_mJy(np.array([map_nu]),A_model_agn,T_model_agn/(1+Z_model_agn))\n",
    "\n",
    "        #pdb.set_trace()\n",
    "        map_model[map_coords_sf[0],map_coords_sf[1]]+=S_model_sf\n",
    "        map_model[map_coords_qt[0],map_coords_qt[1]]+=S_model_qt\n",
    "        map_model[map_coords_agn[0],map_coords_agn[1]]+=S_model_agn\n",
    "        map_pixels[map_coords_sf[0],map_coords_sf[1]]+=1\n",
    "        map_pixels[map_coords_qt[0],map_coords_qt[1]]+=1\n",
    "        map_pixels[map_coords_agn[0],map_coords_agn[1]]+=1\n",
    "        \n",
    "        fwhm = y[map_name]['fwhm']\n",
    "        pix = y[map_name]['pixel_size']\n",
    "        kern = gauss_kern(fwhm, np.floor(fwhm * 10) / pix, pix)\n",
    "        tmap = smooth_psf(map_model, kern)\n",
    "        tmap -= np.mean(tmap)\n",
    "\n",
    "        idx_fit = map_pixels != 0\n",
    "        diff = map_sky - tmap\n",
    "        out_model.extend(np.ravel(diff[idx_fit]))\n",
    "            \n",
    "        #pdb.set_trace()    \n",
    "    return out_model"
   ]
  },
  {
   "cell_type": "code",
   "execution_count": 7,
   "id": "f7d9f030",
   "metadata": {},
   "outputs": [
    {
     "data": {
      "text/plain": [
       "dict_keys(['populations', 'catalog_keys', 'datacube', 'idx', 'simmap_dict'])"
      ]
     },
     "execution_count": 7,
     "metadata": {},
     "output_type": "execute_result"
    }
   ],
   "source": [
    "fluctfit_object.datacube_dict.keys()"
   ]
  },
  {
   "cell_type": "code",
   "execution_count": 17,
   "id": "70867ceb",
   "metadata": {},
   "outputs": [],
   "source": [
    "idx_sf=fluctfit_object.datacube_dict['idx']['sf']\n",
    "idx_qt=fluctfit_object.datacube_dict['idx']['qt']\n",
    "idx_agn=fluctfit_object.datacube_dict['idx']['agn']"
   ]
  },
  {
   "cell_type": "code",
   "execution_count": 19,
   "id": "217efb05",
   "metadata": {},
   "outputs": [
    {
     "data": {
      "text/html": [
       "<div>\n",
       "<style scoped>\n",
       "    .dataframe tbody tr th:only-of-type {\n",
       "        vertical-align: middle;\n",
       "    }\n",
       "\n",
       "    .dataframe tbody tr th {\n",
       "        vertical-align: top;\n",
       "    }\n",
       "\n",
       "    .dataframe thead th {\n",
       "        text-align: right;\n",
       "    }\n",
       "</style>\n",
       "<table border=\"1\" class=\"dataframe\">\n",
       "  <thead>\n",
       "    <tr style=\"text-align: right;\">\n",
       "      <th></th>\n",
       "      <th>z_peak</th>\n",
       "      <th>LMASS</th>\n",
       "      <th>F_ratio</th>\n",
       "      <th>sfg</th>\n",
       "    </tr>\n",
       "  </thead>\n",
       "  <tbody>\n",
       "    <tr>\n",
       "      <th>1</th>\n",
       "      <td>0.01000</td>\n",
       "      <td>4.53</td>\n",
       "      <td>-1.948191</td>\n",
       "      <td>1.0</td>\n",
       "    </tr>\n",
       "    <tr>\n",
       "      <th>3</th>\n",
       "      <td>0.01000</td>\n",
       "      <td>4.69</td>\n",
       "      <td>-0.118435</td>\n",
       "      <td>1.0</td>\n",
       "    </tr>\n",
       "    <tr>\n",
       "      <th>4</th>\n",
       "      <td>0.01000</td>\n",
       "      <td>4.70</td>\n",
       "      <td>-0.161850</td>\n",
       "      <td>1.0</td>\n",
       "    </tr>\n",
       "    <tr>\n",
       "      <th>5</th>\n",
       "      <td>0.01000</td>\n",
       "      <td>4.81</td>\n",
       "      <td>-2.000000</td>\n",
       "      <td>1.0</td>\n",
       "    </tr>\n",
       "    <tr>\n",
       "      <th>6</th>\n",
       "      <td>0.02220</td>\n",
       "      <td>4.91</td>\n",
       "      <td>-1.920455</td>\n",
       "      <td>1.0</td>\n",
       "    </tr>\n",
       "    <tr>\n",
       "      <th>...</th>\n",
       "      <td>...</td>\n",
       "      <td>...</td>\n",
       "      <td>...</td>\n",
       "      <td>...</td>\n",
       "    </tr>\n",
       "    <tr>\n",
       "      <th>166518</th>\n",
       "      <td>3.11302</td>\n",
       "      <td>11.56</td>\n",
       "      <td>-0.239120</td>\n",
       "      <td>1.0</td>\n",
       "    </tr>\n",
       "    <tr>\n",
       "      <th>166565</th>\n",
       "      <td>1.42567</td>\n",
       "      <td>11.63</td>\n",
       "      <td>-1.041898</td>\n",
       "      <td>1.0</td>\n",
       "    </tr>\n",
       "    <tr>\n",
       "      <th>166569</th>\n",
       "      <td>2.13063</td>\n",
       "      <td>11.63</td>\n",
       "      <td>-0.666830</td>\n",
       "      <td>1.0</td>\n",
       "    </tr>\n",
       "    <tr>\n",
       "      <th>166577</th>\n",
       "      <td>0.92457</td>\n",
       "      <td>11.64</td>\n",
       "      <td>-0.337606</td>\n",
       "      <td>1.0</td>\n",
       "    </tr>\n",
       "    <tr>\n",
       "      <th>166586</th>\n",
       "      <td>4.45991</td>\n",
       "      <td>11.67</td>\n",
       "      <td>-1.907331</td>\n",
       "      <td>1.0</td>\n",
       "    </tr>\n",
       "  </tbody>\n",
       "</table>\n",
       "<p>61944 rows × 4 columns</p>\n",
       "</div>"
      ],
      "text/plain": [
       "         z_peak  LMASS   F_ratio  sfg\n",
       "1       0.01000   4.53 -1.948191  1.0\n",
       "3       0.01000   4.69 -0.118435  1.0\n",
       "4       0.01000   4.70 -0.161850  1.0\n",
       "5       0.01000   4.81 -2.000000  1.0\n",
       "6       0.02220   4.91 -1.920455  1.0\n",
       "...         ...    ...       ...  ...\n",
       "166518  3.11302  11.56 -0.239120  1.0\n",
       "166565  1.42567  11.63 -1.041898  1.0\n",
       "166569  2.13063  11.63 -0.666830  1.0\n",
       "166577  0.92457  11.64 -0.337606  1.0\n",
       "166586  4.45991  11.67 -1.907331  1.0\n",
       "\n",
       "[61944 rows x 4 columns]"
      ]
     },
     "execution_count": 19,
     "metadata": {},
     "output_type": "execute_result"
    }
   ],
   "source": [
    "Zs_sf"
   ]
  },
  {
   "cell_type": "code",
   "execution_count": 5,
   "id": "82c805a1",
   "metadata": {},
   "outputs": [
    {
     "data": {
      "text/plain": [
       "{'redshift': {'id': 'z_peak',\n",
       "  'bins': '[0.01, 0.5, 1.0, 1.5, 2.0, 2.5, 3.0, 3.5, 4.0]'},\n",
       " 'stellar_mass': {'id': 'LMASS', 'bins': '[9.0, 10.0, 10.5, 11.0, 12.0]'},\n",
       " 'agn_fraction': {'id': 'F_ratio', 'bins': '[-2, -1, 1, 3]', 'log': 0.01},\n",
       " 'split_params': {'id': 'sfg', 'bins': {'U-V': 'rf_U_V', 'V-J': 'rf_V_J'}}}"
      ]
     },
     "execution_count": 5,
     "metadata": {},
     "output_type": "execute_result"
    }
   ],
   "source": [
    "fluctfit_object.config_dict['catalog']['classification']"
   ]
  },
  {
   "cell_type": "code",
   "execution_count": 6,
   "id": "f32f299e",
   "metadata": {},
   "outputs": [],
   "source": [
    "parameter_keys = list(fluctfit_object.config_dict['catalog']['classification'].keys())[:-1]"
   ]
  },
  {
   "cell_type": "code",
   "execution_count": 7,
   "id": "d3141a47",
   "metadata": {},
   "outputs": [],
   "source": [
    "datacube_dict = {'catalog_keys': [fluctfit_object.config_dict['catalog']['classification'][i]['id'] for i in fluctfit_object.config_dict['catalog']['classification']]}"
   ]
  },
  {
   "cell_type": "code",
   "execution_count": 8,
   "id": "078daa89",
   "metadata": {},
   "outputs": [],
   "source": [
    "datacube_dict['datacube'] = fluctfit_object.catalog_dict['tables']['full_table'][datacube_dict['catalog_keys']]\n",
    "if 'F_ratio' in datacube_dict['datacube']:\n",
    "    fratio_min = 1e-2\n",
    "    Fratio_cut = 1e-2\n",
    "    datacube_dict['datacube']['F_ratio'] = np.log10(datacube_dict['datacube']['F_ratio']+fratio_min)\n",
    "    datacube_dict['datacube']['sfg'][datacube_dict['datacube']['F_ratio'] >= Fratio_cut] = 2"
   ]
  },
  {
   "cell_type": "code",
   "execution_count": 9,
   "id": "0608737d",
   "metadata": {},
   "outputs": [],
   "source": [
    "idx_sf = (datacube_dict['datacube']['sfg'] == 1) #& (datacube_dict['datacube']['F_ratio'] < Fratio_cut)\n",
    "idx_qt = (datacube_dict['datacube']['sfg'] == 0) #& (datacube_dict['datacube']['F_ratio'] < Fratio_cut)\n",
    "idx_agn = (datacube_dict['datacube']['sfg'] == 2) #datacube_dict['datacube']['F_ratio'] >= Fratio_cut "
   ]
  },
  {
   "cell_type": "code",
   "execution_count": 10,
   "id": "95780ce3",
   "metadata": {},
   "outputs": [
    {
     "data": {
      "text/plain": [
       "array([0., 1., 2.])"
      ]
     },
     "execution_count": 10,
     "metadata": {},
     "output_type": "execute_result"
    }
   ],
   "source": [
    "np.unique(datacube_dict['datacube']['sfg'])"
   ]
  },
  {
   "cell_type": "code",
   "execution_count": 11,
   "id": "ea0f44e5",
   "metadata": {},
   "outputs": [],
   "source": [
    "datacube_dict['idx'] = {'sf': idx_sf, 'qt': idx_qt, 'agn': idx_agn}"
   ]
  },
  {
   "cell_type": "code",
   "execution_count": 12,
   "id": "9117c2d9",
   "metadata": {},
   "outputs": [],
   "source": [
    "map_dict_three_pop = {}\n",
    "for map_key in fluctfit_object.maps_dict:\n",
    "    map_object = fluctfit_object.maps_dict[map_key].copy()\n",
    "    map_object['map_coords']={}\n",
    "    for pop_key, pop_idx in datacube_dict['idx'].items():\n",
    "        ra = fluctfit_object.catalog_dict['tables']['full_table'].loc[pop_idx]['ra']\n",
    "        dec = fluctfit_object.catalog_dict['tables']['full_table'].loc[pop_idx]['dec']\n",
    "        cms = map_object['map'].shape\n",
    "        hd = map_object['header']\n",
    "        wmap= WCS(hd)\n",
    "        x, y = fluctfit_object.get_x_y_from_ra_dec(wmap, cms, pop_idx, ra, dec)\n",
    "        map_object['map_coords'][pop_key] = [x,y]\n",
    "    map_dict_three_pop[map_key]=map_object"
   ]
  },
  {
   "cell_type": "raw",
   "id": "cb7819af",
   "metadata": {},
   "source": [
    "Fratio_cut = 1e-2\n",
    "idx_Fratio_zero = fluctfit_object.catalog_dict['tables']['full_table']['F_ratio'] < Fratio_cut\n",
    "idx_Fratio_not_zero = fluctfit_object.catalog_dict['tables']['full_table']['F_ratio'] >= Fratio_cut\n",
    "\n",
    "idx_sf = (fluctfit_object.catalog_dict['tables']['full_table']['sfg'] == 1) & (fluctfit_object.catalog_dict['tables']['full_table']['F_ratio'] < Fratio_cut)\n",
    "idx_qt = (fluctfit_object.catalog_dict['tables']['full_table']['sfg'] == 0) & (fluctfit_object.catalog_dict['tables']['full_table']['F_ratio'] < Fratio_cut)\n",
    "idx_agn = fluctfit_object.catalog_dict['tables']['full_table']['F_ratio'] >= Fratio_cut "
   ]
  },
  {
   "cell_type": "raw",
   "id": "12bae878",
   "metadata": {},
   "source": [
    "datacube_dict['datacube'][datacube_dict['catalog_keys'][:-1]].loc[datacube_dict['idx']['agn']].to_numpy().T"
   ]
  },
  {
   "cell_type": "code",
   "execution_count": 14,
   "id": "5a699ea6",
   "metadata": {},
   "outputs": [],
   "source": [
    "from lmfit import Parameters, minimize, fit_report\n",
    "\n",
    "# Define Fit Parameters\n",
    "fit_params_sfg = Parameters()\n",
    "fit_params_sfg.add('A_offset_sf', value=fluctfit_object.init_dict['A']['sf']['offset'])\n",
    "fit_params_sfg.add('T_offset_sf', value=fluctfit_object.init_dict['T']['sf']['offset'])\n",
    "fit_params_sfg.add('A_offset_qt', value=fluctfit_object.init_dict['A']['qt']['offset'])\n",
    "fit_params_sfg.add('T_offset_qt', value=fluctfit_object.init_dict['T']['qt']['offset'])\n",
    "fit_params_sfg.add('A_offset_agn', value=fluctfit_object.init_dict['A']['agn']['offset'])\n",
    "fit_params_sfg.add('T_offset_agn', value=fluctfit_object.init_dict['T']['agn']['offset'])\n",
    "\n",
    "for key, val in fluctfit_object.config_dict['catalog']['classification'].items():\n",
    "\n",
    "    if 'split_params' not in key:\n",
    "        fit_params_sfg.add('A_slope_'+key+'_sf', value=fluctfit_object.init_dict['A']['sf']['slope_redshift'])\n",
    "        fit_params_sfg.add('T_slope_'+key+'_sf', value=fluctfit_object.init_dict['A']['sf']['slope_redshift'])\n",
    "        fit_params_sfg.add('A_slope_'+key+'_qt', value=fluctfit_object.init_dict['A']['sf']['slope_redshift'])\n",
    "        fit_params_sfg.add('T_slope_'+key+'_qt', value=fluctfit_object.init_dict['A']['sf']['slope_redshift'])\n",
    "        fit_params_sfg.add('A_slope_'+key+'_agn', value=fluctfit_object.init_dict['A']['sf']['slope_redshift'])\n",
    "        fit_params_sfg.add('T_slope_'+key+'_agn', value=fluctfit_object.init_dict['A']['sf']['slope_redshift'])\n",
    "\n",
    "if 1:\n",
    "    cov_direct_fit_three2 = minimize(fluctfit_object.direct_convolved_fit_A_Tdust_three_pop, fit_params_sfg,\n",
    "                         args=(datacube_dict['datacube'].to_numpy().T,),\n",
    "                         kws={'y':map_dict_three_pop},\n",
    "                         nan_policy='propagate')"
   ]
  },
  {
   "cell_type": "code",
   "execution_count": 15,
   "id": "763cdc81",
   "metadata": {},
   "outputs": [
    {
     "data": {
      "text/html": [
       "<table><tr><th> name </th><th> value </th><th> standard error </th><th> relative error </th><th> initial value </th><th> min </th><th> max </th><th> vary </th></tr><tr><td> A_offset_sf </td><td> -41.9992491 </td><td>  3614.44482 </td><td> (8605.97%) </td><td> -42 </td><td>        -inf </td><td>         inf </td><td> True </td></tr><tr><td> T_offset_sf </td><td>  23.0087510 </td><td>  34438.9470 </td><td> (149677.60%) </td><td> 23 </td><td>        -inf </td><td>         inf </td><td> True </td></tr><tr><td> A_offset_qt </td><td> -47.1492024 </td><td>  27930127.8 </td><td> (59237752.47%) </td><td> -50 </td><td>        -inf </td><td>         inf </td><td> True </td></tr><tr><td> T_offset_qt </td><td>  161.892928 </td><td>  1.2918e+09 </td><td> (797925368.15%) </td><td> 130 </td><td>        -inf </td><td>         inf </td><td> True </td></tr><tr><td> A_offset_agn </td><td> -40.9998467 </td><td>  704.701906 </td><td> (1718.79%) </td><td> -41 </td><td>        -inf </td><td>         inf </td><td> True </td></tr><tr><td> T_offset_agn </td><td>  18.0016622 </td><td>  6752.59266 </td><td> (37510.94%) </td><td> 18 </td><td>        -inf </td><td>         inf </td><td> True </td></tr><tr><td> A_slope_redshift_sf </td><td>  0.20156017 </td><td>  1439.52869 </td><td> (714193.04%) </td><td> 0.2 </td><td>        -inf </td><td>         inf </td><td> True </td></tr><tr><td> T_slope_redshift_sf </td><td>  0.21797115 </td><td>  16781.5855 </td><td> (7698993.69%) </td><td> 0.2 </td><td>        -inf </td><td>         inf </td><td> True </td></tr><tr><td> A_slope_redshift_qt </td><td>  0.24463909 </td><td>  2819057.78 </td><td> (1152333313.00%) </td><td> 0.2 </td><td>        -inf </td><td>         inf </td><td> True </td></tr><tr><td> T_slope_redshift_qt </td><td>  0.14887153 </td><td>  4040542.00 </td><td> (2714113272.73%) </td><td> 0.2 </td><td>        -inf </td><td>         inf </td><td> True </td></tr><tr><td> A_slope_redshift_agn </td><td>  0.20023686 </td><td>  259.751248 </td><td> (129722.00%) </td><td> 0.2 </td><td>        -inf </td><td>         inf </td><td> True </td></tr><tr><td> T_slope_redshift_agn </td><td>  0.20258318 </td><td>  2620.32969 </td><td> (1293458.67%) </td><td> 0.2 </td><td>        -inf </td><td>         inf </td><td> True </td></tr><tr><td> A_slope_stellar_mass_sf </td><td>  0.20008204 </td><td>  359.317478 </td><td> (179585.08%) </td><td> 0.2 </td><td>        -inf </td><td>         inf </td><td> True </td></tr><tr><td> T_slope_stellar_mass_sf </td><td>  0.20095611 </td><td>  3331.97838 </td><td> (1658062.70%) </td><td> 0.2 </td><td>        -inf </td><td>         inf </td><td> True </td></tr><tr><td> A_slope_stellar_mass_qt </td><td>  0.25806898 </td><td>  1479195.58 </td><td> (573178367.65%) </td><td> 0.2 </td><td>        -inf </td><td>         inf </td><td> True </td></tr><tr><td> T_slope_stellar_mass_qt </td><td>  0.11451324 </td><td>  3890252.92 </td><td> (3397207861.44%) </td><td> 0.2 </td><td>        -inf </td><td>         inf </td><td> True </td></tr><tr><td> A_slope_stellar_mass_agn </td><td>  0.20001648 </td><td>  70.7267561 </td><td> (35360.46%) </td><td> 0.2 </td><td>        -inf </td><td>         inf </td><td> True </td></tr><tr><td> T_slope_stellar_mass_agn </td><td>  0.20018008 </td><td>  684.519843 </td><td> (341952.03%) </td><td> 0.2 </td><td>        -inf </td><td>         inf </td><td> True </td></tr><tr><td> A_slope_agn_fraction_sf </td><td>  0.19950988 </td><td>  649.541655 </td><td> (325568.67%) </td><td> 0.2 </td><td>        -inf </td><td>         inf </td><td> True </td></tr><tr><td> T_slope_agn_fraction_sf </td><td>  0.19472165 </td><td>  7675.32878 </td><td> (3941692.61%) </td><td> 0.2 </td><td>        -inf </td><td>         inf </td><td> True </td></tr><tr><td> A_slope_agn_fraction_qt </td><td>  0.13667472 </td><td>  2527752.92 </td><td> (1849466304.34%) </td><td> 0.2 </td><td>        -inf </td><td>         inf </td><td> True </td></tr><tr><td> T_slope_agn_fraction_qt </td><td>  0.20430607 </td><td>  3280958.25 </td><td> (1605903450.06%) </td><td> 0.2 </td><td>        -inf </td><td>         inf </td><td> True </td></tr><tr><td> A_slope_agn_fraction_agn </td><td>  0.20015596 </td><td>  202.333705 </td><td> (101088.03%) </td><td> 0.2 </td><td>        -inf </td><td>         inf </td><td> True </td></tr><tr><td> T_slope_agn_fraction_agn </td><td>  0.20168212 </td><td>  2061.77653 </td><td> (1022290.19%) </td><td> 0.2 </td><td>        -inf </td><td>         inf </td><td> True </td></tr></table>"
      ],
      "text/plain": [
       "Parameters([('A_offset_sf',\n",
       "             <Parameter 'A_offset_sf', value=-41.99924911289264 +/- 3.61e+03, bounds=[-inf:inf]>),\n",
       "            ('T_offset_sf',\n",
       "             <Parameter 'T_offset_sf', value=23.00875104502316 +/- 3.44e+04, bounds=[-inf:inf]>),\n",
       "            ('A_offset_qt',\n",
       "             <Parameter 'A_offset_qt', value=-47.14920238549834 +/- 2.79e+07, bounds=[-inf:inf]>),\n",
       "            ('T_offset_qt',\n",
       "             <Parameter 'T_offset_qt', value=161.89292797904292 +/- 1.29e+09, bounds=[-inf:inf]>),\n",
       "            ('A_offset_agn',\n",
       "             <Parameter 'A_offset_agn', value=-40.99984674174756 +/- 705, bounds=[-inf:inf]>),\n",
       "            ('T_offset_agn',\n",
       "             <Parameter 'T_offset_agn', value=18.001662238567306 +/- 6.75e+03, bounds=[-inf:inf]>),\n",
       "            ('A_slope_redshift_sf',\n",
       "             <Parameter 'A_slope_redshift_sf', value=0.20156016595826826 +/- 1.44e+03, bounds=[-inf:inf]>),\n",
       "            ('T_slope_redshift_sf',\n",
       "             <Parameter 'T_slope_redshift_sf', value=0.2179711548277474 +/- 1.68e+04, bounds=[-inf:inf]>),\n",
       "            ('A_slope_redshift_qt',\n",
       "             <Parameter 'A_slope_redshift_qt', value=0.24463909448883236 +/- 2.82e+06, bounds=[-inf:inf]>),\n",
       "            ('T_slope_redshift_qt',\n",
       "             <Parameter 'T_slope_redshift_qt', value=0.14887153160494815 +/- 4.04e+06, bounds=[-inf:inf]>),\n",
       "            ('A_slope_redshift_agn',\n",
       "             <Parameter 'A_slope_redshift_agn', value=0.20023685796342935 +/- 260, bounds=[-inf:inf]>),\n",
       "            ('T_slope_redshift_agn',\n",
       "             <Parameter 'T_slope_redshift_agn', value=0.20258317894391117 +/- 2.62e+03, bounds=[-inf:inf]>),\n",
       "            ('A_slope_stellar_mass_sf',\n",
       "             <Parameter 'A_slope_stellar_mass_sf', value=0.20008203796916932 +/- 359, bounds=[-inf:inf]>),\n",
       "            ('T_slope_stellar_mass_sf',\n",
       "             <Parameter 'T_slope_stellar_mass_sf', value=0.20095611418400597 +/- 3.33e+03, bounds=[-inf:inf]>),\n",
       "            ('A_slope_stellar_mass_qt',\n",
       "             <Parameter 'A_slope_stellar_mass_qt', value=0.2580689827511897 +/- 1.48e+06, bounds=[-inf:inf]>),\n",
       "            ('T_slope_stellar_mass_qt',\n",
       "             <Parameter 'T_slope_stellar_mass_qt', value=0.11451324367953876 +/- 3.89e+06, bounds=[-inf:inf]>),\n",
       "            ('A_slope_stellar_mass_agn',\n",
       "             <Parameter 'A_slope_stellar_mass_agn', value=0.20001648362690022 +/- 70.7, bounds=[-inf:inf]>),\n",
       "            ('T_slope_stellar_mass_agn',\n",
       "             <Parameter 'T_slope_stellar_mass_agn', value=0.2001800758628241 +/- 685, bounds=[-inf:inf]>),\n",
       "            ('A_slope_agn_fraction_sf',\n",
       "             <Parameter 'A_slope_agn_fraction_sf', value=0.19950987890535077 +/- 650, bounds=[-inf:inf]>),\n",
       "            ('T_slope_agn_fraction_sf',\n",
       "             <Parameter 'T_slope_agn_fraction_sf', value=0.19472164726000574 +/- 7.68e+03, bounds=[-inf:inf]>),\n",
       "            ('A_slope_agn_fraction_qt',\n",
       "             <Parameter 'A_slope_agn_fraction_qt', value=0.13667472170389328 +/- 2.53e+06, bounds=[-inf:inf]>),\n",
       "            ('T_slope_agn_fraction_qt',\n",
       "             <Parameter 'T_slope_agn_fraction_qt', value=0.20430607132242537 +/- 3.28e+06, bounds=[-inf:inf]>),\n",
       "            ('A_slope_agn_fraction_agn',\n",
       "             <Parameter 'A_slope_agn_fraction_agn', value=0.20015595757404453 +/- 202, bounds=[-inf:inf]>),\n",
       "            ('T_slope_agn_fraction_agn',\n",
       "             <Parameter 'T_slope_agn_fraction_agn', value=0.201682121484574 +/- 2.06e+03, bounds=[-inf:inf]>)])"
      ]
     },
     "execution_count": 15,
     "metadata": {},
     "output_type": "execute_result"
    }
   ],
   "source": [
    "cov_direct_fit_three2.params"
   ]
  },
  {
   "cell_type": "code",
   "execution_count": 43,
   "id": "c605ef6e",
   "metadata": {},
   "outputs": [
    {
     "data": {
      "text/html": [
       "<table><tr><th> name </th><th> value </th><th> standard error </th><th> relative error </th><th> initial value </th><th> min </th><th> max </th><th> vary </th></tr><tr><td> A_offset_sf </td><td> -41.9992491 </td><td>  3614.44482 </td><td> (8605.97%) </td><td> -42 </td><td>        -inf </td><td>         inf </td><td> True </td></tr><tr><td> T_offset_sf </td><td>  23.0087510 </td><td>  34438.9470 </td><td> (149677.60%) </td><td> 23 </td><td>        -inf </td><td>         inf </td><td> True </td></tr><tr><td> A_offset_qt </td><td> -47.1492024 </td><td>  27930127.8 </td><td> (59237752.47%) </td><td> -50 </td><td>        -inf </td><td>         inf </td><td> True </td></tr><tr><td> T_offset_qt </td><td>  161.892928 </td><td>  1.2918e+09 </td><td> (797925368.15%) </td><td> 130 </td><td>        -inf </td><td>         inf </td><td> True </td></tr><tr><td> A_offset_agn </td><td> -40.9998467 </td><td>  704.701906 </td><td> (1718.79%) </td><td> -41 </td><td>        -inf </td><td>         inf </td><td> True </td></tr><tr><td> T_offset_agn </td><td>  18.0016622 </td><td>  6752.59266 </td><td> (37510.94%) </td><td> 18 </td><td>        -inf </td><td>         inf </td><td> True </td></tr><tr><td> A_slope_redshift_sf </td><td>  0.20156017 </td><td>  1439.52869 </td><td> (714193.04%) </td><td> 0.2 </td><td>        -inf </td><td>         inf </td><td> True </td></tr><tr><td> T_slope_redshift_sf </td><td>  0.21797115 </td><td>  16781.5855 </td><td> (7698993.69%) </td><td> 0.2 </td><td>        -inf </td><td>         inf </td><td> True </td></tr><tr><td> A_slope_redshift_qt </td><td>  0.24463909 </td><td>  2819057.78 </td><td> (1152333313.00%) </td><td> 0.2 </td><td>        -inf </td><td>         inf </td><td> True </td></tr><tr><td> T_slope_redshift_qt </td><td>  0.14887153 </td><td>  4040542.00 </td><td> (2714113272.73%) </td><td> 0.2 </td><td>        -inf </td><td>         inf </td><td> True </td></tr><tr><td> A_slope_redshift_agn </td><td>  0.20023686 </td><td>  259.751248 </td><td> (129722.00%) </td><td> 0.2 </td><td>        -inf </td><td>         inf </td><td> True </td></tr><tr><td> T_slope_redshift_agn </td><td>  0.20258318 </td><td>  2620.32969 </td><td> (1293458.67%) </td><td> 0.2 </td><td>        -inf </td><td>         inf </td><td> True </td></tr><tr><td> A_slope_stellar_mass_sf </td><td>  0.20008204 </td><td>  359.317478 </td><td> (179585.08%) </td><td> 0.2 </td><td>        -inf </td><td>         inf </td><td> True </td></tr><tr><td> T_slope_stellar_mass_sf </td><td>  0.20095611 </td><td>  3331.97838 </td><td> (1658062.70%) </td><td> 0.2 </td><td>        -inf </td><td>         inf </td><td> True </td></tr><tr><td> A_slope_stellar_mass_qt </td><td>  0.25806898 </td><td>  1479195.58 </td><td> (573178367.65%) </td><td> 0.2 </td><td>        -inf </td><td>         inf </td><td> True </td></tr><tr><td> T_slope_stellar_mass_qt </td><td>  0.11451324 </td><td>  3890252.92 </td><td> (3397207861.44%) </td><td> 0.2 </td><td>        -inf </td><td>         inf </td><td> True </td></tr><tr><td> A_slope_stellar_mass_agn </td><td>  0.20001648 </td><td>  70.7267561 </td><td> (35360.46%) </td><td> 0.2 </td><td>        -inf </td><td>         inf </td><td> True </td></tr><tr><td> T_slope_stellar_mass_agn </td><td>  0.20018008 </td><td>  684.519843 </td><td> (341952.03%) </td><td> 0.2 </td><td>        -inf </td><td>         inf </td><td> True </td></tr><tr><td> A_slope_agn_fraction_sf </td><td>  0.19950988 </td><td>  649.541655 </td><td> (325568.67%) </td><td> 0.2 </td><td>        -inf </td><td>         inf </td><td> True </td></tr><tr><td> T_slope_agn_fraction_sf </td><td>  0.19472165 </td><td>  7675.32878 </td><td> (3941692.61%) </td><td> 0.2 </td><td>        -inf </td><td>         inf </td><td> True </td></tr><tr><td> A_slope_agn_fraction_qt </td><td>  0.13667472 </td><td>  2527752.92 </td><td> (1849466304.34%) </td><td> 0.2 </td><td>        -inf </td><td>         inf </td><td> True </td></tr><tr><td> T_slope_agn_fraction_qt </td><td>  0.20430607 </td><td>  3280958.25 </td><td> (1605903450.06%) </td><td> 0.2 </td><td>        -inf </td><td>         inf </td><td> True </td></tr><tr><td> A_slope_agn_fraction_agn </td><td>  0.20015596 </td><td>  202.333705 </td><td> (101088.03%) </td><td> 0.2 </td><td>        -inf </td><td>         inf </td><td> True </td></tr><tr><td> T_slope_agn_fraction_agn </td><td>  0.20168212 </td><td>  2061.77653 </td><td> (1022290.19%) </td><td> 0.2 </td><td>        -inf </td><td>         inf </td><td> True </td></tr></table>"
      ],
      "text/plain": [
       "Parameters([('A_offset_sf',\n",
       "             <Parameter 'A_offset_sf', value=-41.99924911289264 +/- 3.61e+03, bounds=[-inf:inf]>),\n",
       "            ('T_offset_sf',\n",
       "             <Parameter 'T_offset_sf', value=23.00875104502316 +/- 3.44e+04, bounds=[-inf:inf]>),\n",
       "            ('A_offset_qt',\n",
       "             <Parameter 'A_offset_qt', value=-47.14920238549834 +/- 2.79e+07, bounds=[-inf:inf]>),\n",
       "            ('T_offset_qt',\n",
       "             <Parameter 'T_offset_qt', value=161.89292797904292 +/- 1.29e+09, bounds=[-inf:inf]>),\n",
       "            ('A_offset_agn',\n",
       "             <Parameter 'A_offset_agn', value=-40.99984674174756 +/- 705, bounds=[-inf:inf]>),\n",
       "            ('T_offset_agn',\n",
       "             <Parameter 'T_offset_agn', value=18.001662238567306 +/- 6.75e+03, bounds=[-inf:inf]>),\n",
       "            ('A_slope_redshift_sf',\n",
       "             <Parameter 'A_slope_redshift_sf', value=0.20156016595826826 +/- 1.44e+03, bounds=[-inf:inf]>),\n",
       "            ('T_slope_redshift_sf',\n",
       "             <Parameter 'T_slope_redshift_sf', value=0.2179711548277474 +/- 1.68e+04, bounds=[-inf:inf]>),\n",
       "            ('A_slope_redshift_qt',\n",
       "             <Parameter 'A_slope_redshift_qt', value=0.24463909448883236 +/- 2.82e+06, bounds=[-inf:inf]>),\n",
       "            ('T_slope_redshift_qt',\n",
       "             <Parameter 'T_slope_redshift_qt', value=0.14887153160494815 +/- 4.04e+06, bounds=[-inf:inf]>),\n",
       "            ('A_slope_redshift_agn',\n",
       "             <Parameter 'A_slope_redshift_agn', value=0.20023685796342935 +/- 260, bounds=[-inf:inf]>),\n",
       "            ('T_slope_redshift_agn',\n",
       "             <Parameter 'T_slope_redshift_agn', value=0.20258317894391117 +/- 2.62e+03, bounds=[-inf:inf]>),\n",
       "            ('A_slope_stellar_mass_sf',\n",
       "             <Parameter 'A_slope_stellar_mass_sf', value=0.20008203796916932 +/- 359, bounds=[-inf:inf]>),\n",
       "            ('T_slope_stellar_mass_sf',\n",
       "             <Parameter 'T_slope_stellar_mass_sf', value=0.20095611418400597 +/- 3.33e+03, bounds=[-inf:inf]>),\n",
       "            ('A_slope_stellar_mass_qt',\n",
       "             <Parameter 'A_slope_stellar_mass_qt', value=0.2580689827511897 +/- 1.48e+06, bounds=[-inf:inf]>),\n",
       "            ('T_slope_stellar_mass_qt',\n",
       "             <Parameter 'T_slope_stellar_mass_qt', value=0.11451324367953876 +/- 3.89e+06, bounds=[-inf:inf]>),\n",
       "            ('A_slope_stellar_mass_agn',\n",
       "             <Parameter 'A_slope_stellar_mass_agn', value=0.20001648362690022 +/- 70.7, bounds=[-inf:inf]>),\n",
       "            ('T_slope_stellar_mass_agn',\n",
       "             <Parameter 'T_slope_stellar_mass_agn', value=0.2001800758628241 +/- 685, bounds=[-inf:inf]>),\n",
       "            ('A_slope_agn_fraction_sf',\n",
       "             <Parameter 'A_slope_agn_fraction_sf', value=0.19950987890535077 +/- 650, bounds=[-inf:inf]>),\n",
       "            ('T_slope_agn_fraction_sf',\n",
       "             <Parameter 'T_slope_agn_fraction_sf', value=0.19472164726000574 +/- 7.68e+03, bounds=[-inf:inf]>),\n",
       "            ('A_slope_agn_fraction_qt',\n",
       "             <Parameter 'A_slope_agn_fraction_qt', value=0.13667472170389328 +/- 2.53e+06, bounds=[-inf:inf]>),\n",
       "            ('T_slope_agn_fraction_qt',\n",
       "             <Parameter 'T_slope_agn_fraction_qt', value=0.20430607132242537 +/- 3.28e+06, bounds=[-inf:inf]>),\n",
       "            ('A_slope_agn_fraction_agn',\n",
       "             <Parameter 'A_slope_agn_fraction_agn', value=0.20015595757404453 +/- 202, bounds=[-inf:inf]>),\n",
       "            ('T_slope_agn_fraction_agn',\n",
       "             <Parameter 'T_slope_agn_fraction_agn', value=0.201682121484574 +/- 2.06e+03, bounds=[-inf:inf]>)])"
      ]
     },
     "execution_count": 43,
     "metadata": {},
     "output_type": "execute_result"
    }
   ],
   "source": [
    "cov_direct_fit_three.params"
   ]
  },
  {
   "cell_type": "code",
   "execution_count": 13,
   "id": "c0c4b443",
   "metadata": {},
   "outputs": [
    {
     "name": "stdout",
     "output_type": "stream",
     "text": [
      "61944\n",
      "25307\n",
      "79382\n"
     ]
    }
   ],
   "source": [
    "print(np.sum(idx_sf))\n",
    "print(np.sum(idx_qt))\n",
    "print(np.sum(idx_agn))"
   ]
  },
  {
   "cell_type": "code",
   "execution_count": 33,
   "id": "e82f3f9d",
   "metadata": {},
   "outputs": [
    {
     "data": {
      "text/html": [
       "<table><tr><th> name </th><th> value </th><th> initial value </th><th> min </th><th> max </th><th> vary </th></tr><tr><td> A_offset_sf </td><td> -42.0000000 </td><td> -42 </td><td>        -inf </td><td>         inf </td><td> True </td></tr><tr><td> T_offset_sf </td><td>  23.0000000 </td><td> 23 </td><td>        -inf </td><td>         inf </td><td> True </td></tr><tr><td> A_offset_qt </td><td> -50.0000000 </td><td> -50 </td><td>        -inf </td><td>         inf </td><td> True </td></tr><tr><td> T_offset_qt </td><td>  130.000000 </td><td> 130 </td><td>        -inf </td><td>         inf </td><td> True </td></tr><tr><td> A_offset_agn </td><td> -41.0000000 </td><td> -41 </td><td>        -inf </td><td>         inf </td><td> True </td></tr><tr><td> T_offset_agn </td><td>  18.0000000 </td><td> 18 </td><td>        -inf </td><td>         inf </td><td> True </td></tr><tr><td> A_slope_redshift_sf </td><td>  0.20000000 </td><td> 0.2 </td><td>        -inf </td><td>         inf </td><td> True </td></tr><tr><td> T_slope_redshift_sf </td><td>  0.20000000 </td><td> 0.2 </td><td>        -inf </td><td>         inf </td><td> True </td></tr><tr><td> A_slope_redshift_qt </td><td>  0.20000000 </td><td> 0.2 </td><td>        -inf </td><td>         inf </td><td> True </td></tr><tr><td> T_slope_redshift_qt </td><td>  0.20000000 </td><td> 0.2 </td><td>        -inf </td><td>         inf </td><td> True </td></tr><tr><td> A_slope_redshift_agn </td><td>  0.20000000 </td><td> 0.2 </td><td>        -inf </td><td>         inf </td><td> True </td></tr><tr><td> T_slope_redshift_agn </td><td>  0.20000000 </td><td> 0.2 </td><td>        -inf </td><td>         inf </td><td> True </td></tr><tr><td> A_slope_stellar_mass_sf </td><td>  0.20000000 </td><td> 0.2 </td><td>        -inf </td><td>         inf </td><td> True </td></tr><tr><td> T_slope_stellar_mass_sf </td><td>  0.20000000 </td><td> 0.2 </td><td>        -inf </td><td>         inf </td><td> True </td></tr><tr><td> A_slope_stellar_mass_qt </td><td>  0.20000000 </td><td> 0.2 </td><td>        -inf </td><td>         inf </td><td> True </td></tr><tr><td> T_slope_stellar_mass_qt </td><td>  0.20000000 </td><td> 0.2 </td><td>        -inf </td><td>         inf </td><td> True </td></tr><tr><td> A_slope_stellar_mass_agn </td><td>  0.20000000 </td><td> 0.2 </td><td>        -inf </td><td>         inf </td><td> True </td></tr><tr><td> T_slope_stellar_mass_agn </td><td>  0.20000000 </td><td> 0.2 </td><td>        -inf </td><td>         inf </td><td> True </td></tr><tr><td> A_slope_agn_fraction_sf </td><td>  0.20000000 </td><td> 0.2 </td><td>        -inf </td><td>         inf </td><td> True </td></tr><tr><td> T_slope_agn_fraction_sf </td><td>  0.20000000 </td><td> 0.2 </td><td>        -inf </td><td>         inf </td><td> True </td></tr><tr><td> A_slope_agn_fraction_qt </td><td>  0.20000000 </td><td> 0.2 </td><td>        -inf </td><td>         inf </td><td> True </td></tr><tr><td> T_slope_agn_fraction_qt </td><td>  0.20000000 </td><td> 0.2 </td><td>        -inf </td><td>         inf </td><td> True </td></tr><tr><td> A_slope_agn_fraction_agn </td><td>  0.20000000 </td><td> 0.2 </td><td>        -inf </td><td>         inf </td><td> True </td></tr><tr><td> T_slope_agn_fraction_agn </td><td>  0.20000000 </td><td> 0.2 </td><td>        -inf </td><td>         inf </td><td> True </td></tr></table>"
      ],
      "text/plain": [
       "Parameters([('A_offset_sf',\n",
       "             <Parameter 'A_offset_sf', value=-42, bounds=[-inf:inf]>),\n",
       "            ('T_offset_sf',\n",
       "             <Parameter 'T_offset_sf', value=23, bounds=[-inf:inf]>),\n",
       "            ('A_offset_qt',\n",
       "             <Parameter 'A_offset_qt', value=-50, bounds=[-inf:inf]>),\n",
       "            ('T_offset_qt',\n",
       "             <Parameter 'T_offset_qt', value=130, bounds=[-inf:inf]>),\n",
       "            ('A_offset_agn',\n",
       "             <Parameter 'A_offset_agn', value=-41, bounds=[-inf:inf]>),\n",
       "            ('T_offset_agn',\n",
       "             <Parameter 'T_offset_agn', value=18, bounds=[-inf:inf]>),\n",
       "            ('A_slope_redshift_sf',\n",
       "             <Parameter 'A_slope_redshift_sf', value=0.2, bounds=[-inf:inf]>),\n",
       "            ('T_slope_redshift_sf',\n",
       "             <Parameter 'T_slope_redshift_sf', value=0.2, bounds=[-inf:inf]>),\n",
       "            ('A_slope_redshift_qt',\n",
       "             <Parameter 'A_slope_redshift_qt', value=0.2, bounds=[-inf:inf]>),\n",
       "            ('T_slope_redshift_qt',\n",
       "             <Parameter 'T_slope_redshift_qt', value=0.2, bounds=[-inf:inf]>),\n",
       "            ('A_slope_redshift_agn',\n",
       "             <Parameter 'A_slope_redshift_agn', value=0.2, bounds=[-inf:inf]>),\n",
       "            ('T_slope_redshift_agn',\n",
       "             <Parameter 'T_slope_redshift_agn', value=0.2, bounds=[-inf:inf]>),\n",
       "            ('A_slope_stellar_mass_sf',\n",
       "             <Parameter 'A_slope_stellar_mass_sf', value=0.2, bounds=[-inf:inf]>),\n",
       "            ('T_slope_stellar_mass_sf',\n",
       "             <Parameter 'T_slope_stellar_mass_sf', value=0.2, bounds=[-inf:inf]>),\n",
       "            ('A_slope_stellar_mass_qt',\n",
       "             <Parameter 'A_slope_stellar_mass_qt', value=0.2, bounds=[-inf:inf]>),\n",
       "            ('T_slope_stellar_mass_qt',\n",
       "             <Parameter 'T_slope_stellar_mass_qt', value=0.2, bounds=[-inf:inf]>),\n",
       "            ('A_slope_stellar_mass_agn',\n",
       "             <Parameter 'A_slope_stellar_mass_agn', value=0.2, bounds=[-inf:inf]>),\n",
       "            ('T_slope_stellar_mass_agn',\n",
       "             <Parameter 'T_slope_stellar_mass_agn', value=0.2, bounds=[-inf:inf]>),\n",
       "            ('A_slope_agn_fraction_sf',\n",
       "             <Parameter 'A_slope_agn_fraction_sf', value=0.2, bounds=[-inf:inf]>),\n",
       "            ('T_slope_agn_fraction_sf',\n",
       "             <Parameter 'T_slope_agn_fraction_sf', value=0.2, bounds=[-inf:inf]>),\n",
       "            ('A_slope_agn_fraction_qt',\n",
       "             <Parameter 'A_slope_agn_fraction_qt', value=0.2, bounds=[-inf:inf]>),\n",
       "            ('T_slope_agn_fraction_qt',\n",
       "             <Parameter 'T_slope_agn_fraction_qt', value=0.2, bounds=[-inf:inf]>),\n",
       "            ('A_slope_agn_fraction_agn',\n",
       "             <Parameter 'A_slope_agn_fraction_agn', value=0.2, bounds=[-inf:inf]>),\n",
       "            ('T_slope_agn_fraction_agn',\n",
       "             <Parameter 'T_slope_agn_fraction_agn', value=0.2, bounds=[-inf:inf]>)])"
      ]
     },
     "execution_count": 33,
     "metadata": {},
     "output_type": "execute_result"
    }
   ],
   "source": [
    "fit_params_sfg"
   ]
  },
  {
   "cell_type": "code",
   "execution_count": null,
   "id": "80dab56d",
   "metadata": {},
   "outputs": [],
   "source": []
  }
 ],
 "metadata": {
  "kernelspec": {
   "display_name": "Python 3",
   "language": "python",
   "name": "python3"
  },
  "language_info": {
   "codemirror_mode": {
    "name": "ipython",
    "version": 3
   },
   "file_extension": ".py",
   "mimetype": "text/x-python",
   "name": "python",
   "nbconvert_exporter": "python",
   "pygments_lexer": "ipython3",
   "version": "3.8.10"
  }
 },
 "nbformat": 4,
 "nbformat_minor": 5
}
